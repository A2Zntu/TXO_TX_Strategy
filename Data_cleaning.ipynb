{
 "cells": [
  {
   "cell_type": "markdown",
   "metadata": {},
   "source": [
    "## We extract only TXO and TX from 2020/03/13 to 2020/04/24"
   ]
  },
  {
   "cell_type": "markdown",
   "metadata": {},
   "source": [
    "* Data resorce:    \n",
    "    * Futures:  http://www.taifex.com.tw/cht/3/dlFutPrevious30DaysSalesData  \n",
    "    * Options:  http://www.taifex.com.tw/cht/3/dlOptPrevious30DaysSalesData\n",
    "* Data exclude:\n",
    "    * Options: Only include the open 5 mins trading information, which is, 84500 ~ 85000\n",
    "    * Futures: Include every transaction data"
   ]
  },
  {
   "cell_type": "code",
   "execution_count": 1,
   "metadata": {},
   "outputs": [],
   "source": [
    "import pandas as pd \n",
    "import numpy as np \n",
    "import os, glob\n",
    "import datetime as dt"
   ]
  },
  {
   "cell_type": "code",
   "execution_count": 2,
   "metadata": {},
   "outputs": [
    {
     "data": {
      "text/plain": [
       "'C:\\\\Users\\\\Evan\\\\Documents\\\\GitHub\\\\TXO_TX_Strategy'"
      ]
     },
     "execution_count": 2,
     "metadata": {},
     "output_type": "execute_result"
    }
   ],
   "source": [
    "work_dir = os.getcwd()\n",
    "work_dir"
   ]
  },
  {
   "cell_type": "code",
   "execution_count": 3,
   "metadata": {},
   "outputs": [],
   "source": [
    "Option_path = os.path.join(work_dir, 'Data', 'Option')\n",
    "Future_path = os.path.join(work_dir, 'Data', 'Futures')"
   ]
  },
  {
   "cell_type": "code",
   "execution_count": 4,
   "metadata": {},
   "outputs": [],
   "source": [
    "vacations = [dt.date(2020, 4, 2), dt.date(2020, 4, 3)] # Taiwan vacations"
   ]
  },
  {
   "cell_type": "code",
   "execution_count": 5,
   "metadata": {},
   "outputs": [],
   "source": [
    "dates = pd.bdate_range(start='3/13/2020', end='4/24/2020')\n",
    "dates = dates.drop(vacations)"
   ]
  },
  {
   "cell_type": "code",
   "execution_count": 6,
   "metadata": {},
   "outputs": [
    {
     "data": {
      "text/plain": [
       "(29,)"
      ]
     },
     "execution_count": 6,
     "metadata": {},
     "output_type": "execute_result"
    }
   ],
   "source": [
    "dates.shape"
   ]
  },
  {
   "cell_type": "markdown",
   "metadata": {},
   "source": [
    "## Collect all the csv name"
   ]
  },
  {
   "cell_type": "code",
   "execution_count": 4,
   "metadata": {},
   "outputs": [],
   "source": [
    "extension = 'csv'\n",
    "os.chdir(Option_path)\n",
    "Opt_csv_List = glob.glob('*.{}'.format(extension))"
   ]
  },
  {
   "cell_type": "markdown",
   "metadata": {},
   "source": [
    "## Read the Option csv and data cleaning"
   ]
  },
  {
   "cell_type": "code",
   "execution_count": 96,
   "metadata": {},
   "outputs": [],
   "source": [
    "def output_csv(dataCsv):\n",
    "    # The product name needs to be careful with space\n",
    "    df = pd.read_csv(os.path.join(Option_path, dataCsv), encoding = 'cp950')\n",
    "    columns_name = ['TransDate', 'Product', 'ExcercisePrice', 'Maturity', 'Right', 'TransTime', 'TransPrice', 'Volumn', 'E']\n",
    "    df.columns  = columns_name \n",
    "    df_new = df[(df.Product == '    TXO     ') & ((df.TransTime.between(left=84500, right=85000)) | (df.TransTime.between(left=134000, right=134500)))]\n",
    "    df_new = df_new.drop('E', axis = 1)\n",
    "    df_new.to_csv(os.path.join(Option_path, dataCsv), index = False)\n",
    "    print(\"writing file to {}\".format(dataCsv))"
   ]
  },
  {
   "cell_type": "code",
   "execution_count": 98,
   "metadata": {},
   "outputs": [
    {
     "name": "stderr",
     "output_type": "stream",
     "text": [
      "C:\\Users\\Evan\\Anaconda3\\lib\\site-packages\\IPython\\core\\interactiveshell.py:3249: DtypeWarning: Columns (0) have mixed types.Specify dtype option on import or set low_memory=False.\n",
      "  if (await self.run_code(code, result,  async_=asy)):\n"
     ]
    },
    {
     "name": "stdout",
     "output_type": "stream",
     "text": [
      "writing file to OptionsDaily_2020_03_16.csv\n",
      "writing file to OptionsDaily_2020_03_17.csv\n"
     ]
    },
    {
     "name": "stderr",
     "output_type": "stream",
     "text": [
      "C:\\Users\\Evan\\Anaconda3\\lib\\site-packages\\IPython\\core\\interactiveshell.py:3249: DtypeWarning: Columns (0,3) have mixed types.Specify dtype option on import or set low_memory=False.\n",
      "  if (await self.run_code(code, result,  async_=asy)):\n"
     ]
    },
    {
     "name": "stdout",
     "output_type": "stream",
     "text": [
      "writing file to OptionsDaily_2020_03_18.csv\n",
      "writing file to OptionsDaily_2020_03_19.csv\n",
      "writing file to OptionsDaily_2020_03_20.csv\n",
      "writing file to OptionsDaily_2020_03_23.csv\n",
      "writing file to OptionsDaily_2020_03_24.csv\n",
      "writing file to OptionsDaily_2020_03_25.csv\n",
      "writing file to OptionsDaily_2020_03_26.csv\n",
      "writing file to OptionsDaily_2020_03_27.csv\n",
      "writing file to OptionsDaily_2020_03_30.csv\n",
      "writing file to OptionsDaily_2020_03_31.csv\n",
      "writing file to OptionsDaily_2020_04_01.csv\n",
      "writing file to OptionsDaily_2020_04_06.csv\n",
      "writing file to OptionsDaily_2020_04_07.csv\n",
      "writing file to OptionsDaily_2020_04_08.csv\n",
      "writing file to OptionsDaily_2020_04_09.csv\n",
      "writing file to OptionsDaily_2020_04_10.csv\n",
      "writing file to OptionsDaily_2020_04_13.csv\n",
      "writing file to OptionsDaily_2020_04_14.csv\n",
      "writing file to OptionsDaily_2020_04_15.csv\n",
      "writing file to OptionsDaily_2020_04_16.csv\n",
      "writing file to OptionsDaily_2020_04_17.csv\n",
      "writing file to OptionsDaily_2020_04_20.csv\n",
      "writing file to OptionsDaily_2020_04_21.csv\n",
      "writing file to OptionsDaily_2020_04_22.csv\n",
      "writing file to OptionsDaily_2020_04_23.csv\n",
      "writing file to OptionsDaily_2020_04_24.csv\n"
     ]
    }
   ],
   "source": [
    "for dataCsv in Opt_csv_List: \n",
    "    output_csv(dataCsv)"
   ]
  },
  {
   "cell_type": "markdown",
   "metadata": {},
   "source": [
    "## Read the Future csv and data cleaning"
   ]
  },
  {
   "cell_type": "code",
   "execution_count": 7,
   "metadata": {},
   "outputs": [],
   "source": [
    "extension = 'csv'\n",
    "os.chdir(Future_path)\n",
    "Fut_csv_List = glob.glob('*.{}'.format(extension))"
   ]
  },
  {
   "cell_type": "code",
   "execution_count": 22,
   "metadata": {},
   "outputs": [],
   "source": [
    "def output_csv2(dataCsv):\n",
    "    df = pd.read_csv(os.path.join(Future_path, dataCsv), encoding = 'cp950')\n",
    "    columns_name = ['TransDate', 'Product', 'Maturity', 'TransTime', 'TransPrice', 'Volumn', 'A', 'B', 'E']\n",
    "    df.columns  = columns_name \n",
    "    df_new = df[(df.Product == 'TX     ') & (df.TransTime.between(left=84500, right=134500))] # The product name needs to be careful with space\n",
    "    df_new = df_new.drop(['A', 'B', 'E'], axis = 1)\n",
    "    df_new.to_csv(os.path.join(Future_path, dataCsv), index = False)\n",
    "    print(\"writing file to {}\".format(dataCsv))"
   ]
  },
  {
   "cell_type": "code",
   "execution_count": 23,
   "metadata": {},
   "outputs": [
    {
     "name": "stderr",
     "output_type": "stream",
     "text": [
      "C:\\Users\\Evan\\Anaconda3\\lib\\site-packages\\IPython\\core\\interactiveshell.py:3249: DtypeWarning: Columns (2) have mixed types.Specify dtype option on import or set low_memory=False.\n",
      "  if (await self.run_code(code, result,  async_=asy)):\n"
     ]
    },
    {
     "name": "stdout",
     "output_type": "stream",
     "text": [
      "writing file to Daily_2020_03_13.csv\n",
      "writing file to Daily_2020_03_16.csv\n",
      "writing file to Daily_2020_03_17.csv\n",
      "writing file to Daily_2020_03_18.csv\n",
      "writing file to Daily_2020_03_19.csv\n",
      "writing file to Daily_2020_03_20.csv\n",
      "writing file to Daily_2020_03_23.csv\n",
      "writing file to Daily_2020_03_24.csv\n",
      "writing file to Daily_2020_03_25.csv\n",
      "writing file to Daily_2020_03_26.csv\n",
      "writing file to Daily_2020_03_27.csv\n",
      "writing file to Daily_2020_03_30.csv\n",
      "writing file to Daily_2020_03_31.csv\n",
      "writing file to Daily_2020_04_01.csv\n",
      "writing file to Daily_2020_04_06.csv\n",
      "writing file to Daily_2020_04_07.csv\n",
      "writing file to Daily_2020_04_08.csv\n",
      "writing file to Daily_2020_04_09.csv\n",
      "writing file to Daily_2020_04_10.csv\n",
      "writing file to Daily_2020_04_13.csv\n",
      "writing file to Daily_2020_04_14.csv\n",
      "writing file to Daily_2020_04_15.csv\n",
      "writing file to Daily_2020_04_16.csv\n",
      "writing file to Daily_2020_04_17.csv\n",
      "writing file to Daily_2020_04_20.csv\n",
      "writing file to Daily_2020_04_21.csv\n",
      "writing file to Daily_2020_04_22.csv\n",
      "writing file to Daily_2020_04_23.csv\n",
      "writing file to Daily_2020_04_24.csv\n"
     ]
    }
   ],
   "source": [
    "for dataCsv in Fut_csv_List: \n",
    "    output_csv2(dataCsv)"
   ]
  },
  {
   "cell_type": "markdown",
   "metadata": {},
   "source": [
    "## Make sure the new csv is correct "
   ]
  },
  {
   "cell_type": "code",
   "execution_count": 86,
   "metadata": {},
   "outputs": [
    {
     "data": {
      "text/html": [
       "<div>\n",
       "<style scoped>\n",
       "    .dataframe tbody tr th:only-of-type {\n",
       "        vertical-align: middle;\n",
       "    }\n",
       "\n",
       "    .dataframe tbody tr th {\n",
       "        vertical-align: top;\n",
       "    }\n",
       "\n",
       "    .dataframe thead th {\n",
       "        text-align: right;\n",
       "    }\n",
       "</style>\n",
       "<table border=\"1\" class=\"dataframe\">\n",
       "  <thead>\n",
       "    <tr style=\"text-align: right;\">\n",
       "      <th></th>\n",
       "      <th>TransDate</th>\n",
       "      <th>Product</th>\n",
       "      <th>ExcercisePrice</th>\n",
       "      <th>Maturity</th>\n",
       "      <th>Right</th>\n",
       "      <th>TransTime</th>\n",
       "      <th>TransPrice</th>\n",
       "      <th>Volumn</th>\n",
       "    </tr>\n",
       "  </thead>\n",
       "  <tbody>\n",
       "    <tr>\n",
       "      <th>0</th>\n",
       "      <td>20200324</td>\n",
       "      <td>TXO</td>\n",
       "      <td>7300.0</td>\n",
       "      <td>202004</td>\n",
       "      <td>P</td>\n",
       "      <td>84500.0</td>\n",
       "      <td>70.0</td>\n",
       "      <td>2.0</td>\n",
       "    </tr>\n",
       "    <tr>\n",
       "      <th>1</th>\n",
       "      <td>20200324</td>\n",
       "      <td>TXO</td>\n",
       "      <td>7300.0</td>\n",
       "      <td>202004</td>\n",
       "      <td>P</td>\n",
       "      <td>84500.0</td>\n",
       "      <td>70.0</td>\n",
       "      <td>1.0</td>\n",
       "    </tr>\n",
       "    <tr>\n",
       "      <th>2</th>\n",
       "      <td>20200324</td>\n",
       "      <td>TXO</td>\n",
       "      <td>7300.0</td>\n",
       "      <td>202004</td>\n",
       "      <td>P</td>\n",
       "      <td>84500.0</td>\n",
       "      <td>70.0</td>\n",
       "      <td>1.0</td>\n",
       "    </tr>\n",
       "    <tr>\n",
       "      <th>3</th>\n",
       "      <td>20200324</td>\n",
       "      <td>TXO</td>\n",
       "      <td>7300.0</td>\n",
       "      <td>202004</td>\n",
       "      <td>P</td>\n",
       "      <td>84500.0</td>\n",
       "      <td>70.0</td>\n",
       "      <td>1.0</td>\n",
       "    </tr>\n",
       "    <tr>\n",
       "      <th>4</th>\n",
       "      <td>20200324</td>\n",
       "      <td>TXO</td>\n",
       "      <td>7300.0</td>\n",
       "      <td>202004</td>\n",
       "      <td>P</td>\n",
       "      <td>84500.0</td>\n",
       "      <td>70.0</td>\n",
       "      <td>1.0</td>\n",
       "    </tr>\n",
       "  </tbody>\n",
       "</table>\n",
       "</div>"
      ],
      "text/plain": [
       "   TransDate       Product  ExcercisePrice      Maturity       Right  \\\n",
       "0   20200324      TXO               7300.0      202004        P        \n",
       "1   20200324      TXO               7300.0      202004        P        \n",
       "2   20200324      TXO               7300.0      202004        P        \n",
       "3   20200324      TXO               7300.0      202004        P        \n",
       "4   20200324      TXO               7300.0      202004        P        \n",
       "\n",
       "   TransTime  TransPrice  Volumn  \n",
       "0    84500.0        70.0     2.0  \n",
       "1    84500.0        70.0     1.0  \n",
       "2    84500.0        70.0     1.0  \n",
       "3    84500.0        70.0     1.0  \n",
       "4    84500.0        70.0     1.0  "
      ]
     },
     "execution_count": 86,
     "metadata": {},
     "output_type": "execute_result"
    }
   ],
   "source": [
    "df = pd.read_csv(os.path.join(Option_path, Opt_csv_List[7]), encoding = 'cp950')\n",
    "df.head()"
   ]
  },
  {
   "cell_type": "code",
   "execution_count": 91,
   "metadata": {},
   "outputs": [
    {
     "data": {
      "text/plain": [
       "numpy.float64"
      ]
     },
     "execution_count": 91,
     "metadata": {},
     "output_type": "execute_result"
    }
   ],
   "source": [
    "type(df.ExcercisePrice[0])"
   ]
  },
  {
   "cell_type": "code",
   "execution_count": 77,
   "metadata": {},
   "outputs": [
    {
     "data": {
      "text/plain": [
       "17481"
      ]
     },
     "execution_count": 77,
     "metadata": {},
     "output_type": "execute_result"
    }
   ],
   "source": [
    "df = pd.read_csv(os.path.join(Future_path, Fut_csv_List[0]), encoding = 'cp950')\n",
    "len(df)"
   ]
  },
  {
   "cell_type": "markdown",
   "metadata": {},
   "source": [
    "## Slim down from all info to the vital info (Futures)"
   ]
  },
  {
   "cell_type": "markdown",
   "metadata": {},
   "source": [
    "* For Futures, Only keep   \n",
    "    * the nearby month contract  \n",
    "    * There are multiple transaction within 1 sec, we use groupby to acquire the mean of the transaction Price as the representitive price\n"
   ]
  },
  {
   "cell_type": "code",
   "execution_count": 69,
   "metadata": {},
   "outputs": [],
   "source": [
    "def futures_keep_info(dataCsv): \n",
    "    'Slim the Size'\n",
    "    df = pd.read_csv(os.path.join(Future_path, Fut_csv_List[0]), encoding = 'cp950')\n",
    "    meanPrice = round(df.groupby('TransTime').TransPrice.transform('mean'), 2)\n",
    "    df['meanPrice'] = meanPrice\n",
    "    nearbyMonth = df.Maturity[0]\n",
    "    df_new = df[df.Maturity == nearbyMonth]\n",
    "\n",
    "    df_new = df_new.drop_duplicates(subset = ['TransTime'], keep ='first')\n",
    "    df_new.to_csv(os.path.join(Future_path, dataCsv), index = False)\n",
    "    print(\"writing file to {}\".format(dataCsv))"
   ]
  },
  {
   "cell_type": "code",
   "execution_count": 71,
   "metadata": {},
   "outputs": [
    {
     "name": "stdout",
     "output_type": "stream",
     "text": [
      "writing file to Daily_2020_03_13.csv\n",
      "writing file to Daily_2020_03_16.csv\n",
      "writing file to Daily_2020_03_17.csv\n",
      "writing file to Daily_2020_03_18.csv\n",
      "writing file to Daily_2020_03_19.csv\n",
      "writing file to Daily_2020_03_20.csv\n",
      "writing file to Daily_2020_03_23.csv\n",
      "writing file to Daily_2020_03_24.csv\n",
      "writing file to Daily_2020_03_25.csv\n",
      "writing file to Daily_2020_03_26.csv\n",
      "writing file to Daily_2020_03_27.csv\n",
      "writing file to Daily_2020_03_30.csv\n",
      "writing file to Daily_2020_03_31.csv\n",
      "writing file to Daily_2020_04_01.csv\n",
      "writing file to Daily_2020_04_06.csv\n",
      "writing file to Daily_2020_04_07.csv\n",
      "writing file to Daily_2020_04_08.csv\n",
      "writing file to Daily_2020_04_09.csv\n",
      "writing file to Daily_2020_04_10.csv\n",
      "writing file to Daily_2020_04_13.csv\n",
      "writing file to Daily_2020_04_14.csv\n",
      "writing file to Daily_2020_04_15.csv\n",
      "writing file to Daily_2020_04_16.csv\n",
      "writing file to Daily_2020_04_17.csv\n",
      "writing file to Daily_2020_04_20.csv\n",
      "writing file to Daily_2020_04_21.csv\n",
      "writing file to Daily_2020_04_22.csv\n",
      "writing file to Daily_2020_04_23.csv\n",
      "writing file to Daily_2020_04_24.csv\n"
     ]
    }
   ],
   "source": [
    "for dataCsv in Fut_csv_List: \n",
    "    futures_keep_info(dataCsv)"
   ]
  },
  {
   "cell_type": "code",
   "execution_count": 72,
   "metadata": {},
   "outputs": [
    {
     "data": {
      "text/html": [
       "<div>\n",
       "<style scoped>\n",
       "    .dataframe tbody tr th:only-of-type {\n",
       "        vertical-align: middle;\n",
       "    }\n",
       "\n",
       "    .dataframe tbody tr th {\n",
       "        vertical-align: top;\n",
       "    }\n",
       "\n",
       "    .dataframe thead th {\n",
       "        text-align: right;\n",
       "    }\n",
       "</style>\n",
       "<table border=\"1\" class=\"dataframe\">\n",
       "  <thead>\n",
       "    <tr style=\"text-align: right;\">\n",
       "      <th></th>\n",
       "      <th>TransDate</th>\n",
       "      <th>Product</th>\n",
       "      <th>Maturity</th>\n",
       "      <th>TransTime</th>\n",
       "      <th>TransPrice</th>\n",
       "      <th>Volumn</th>\n",
       "      <th>meanPrice</th>\n",
       "    </tr>\n",
       "  </thead>\n",
       "  <tbody>\n",
       "    <tr>\n",
       "      <th>0</th>\n",
       "      <td>20200313</td>\n",
       "      <td>TX</td>\n",
       "      <td>202003</td>\n",
       "      <td>84500</td>\n",
       "      <td>9749.0</td>\n",
       "      <td>1720</td>\n",
       "      <td>9714.56</td>\n",
       "    </tr>\n",
       "    <tr>\n",
       "      <th>1</th>\n",
       "      <td>20200313</td>\n",
       "      <td>TX</td>\n",
       "      <td>202003</td>\n",
       "      <td>84501</td>\n",
       "      <td>9737.0</td>\n",
       "      <td>2</td>\n",
       "      <td>9730.19</td>\n",
       "    </tr>\n",
       "    <tr>\n",
       "      <th>2</th>\n",
       "      <td>20200313</td>\n",
       "      <td>TX</td>\n",
       "      <td>202003</td>\n",
       "      <td>84502</td>\n",
       "      <td>9720.0</td>\n",
       "      <td>4</td>\n",
       "      <td>9724.68</td>\n",
       "    </tr>\n",
       "    <tr>\n",
       "      <th>3</th>\n",
       "      <td>20200313</td>\n",
       "      <td>TX</td>\n",
       "      <td>202003</td>\n",
       "      <td>84503</td>\n",
       "      <td>9720.0</td>\n",
       "      <td>4</td>\n",
       "      <td>9717.49</td>\n",
       "    </tr>\n",
       "    <tr>\n",
       "      <th>4</th>\n",
       "      <td>20200313</td>\n",
       "      <td>TX</td>\n",
       "      <td>202003</td>\n",
       "      <td>84504</td>\n",
       "      <td>9715.0</td>\n",
       "      <td>2</td>\n",
       "      <td>9739.75</td>\n",
       "    </tr>\n",
       "  </tbody>\n",
       "</table>\n",
       "</div>"
      ],
      "text/plain": [
       "   TransDate  Product  Maturity  TransTime  TransPrice  Volumn  meanPrice\n",
       "0   20200313  TX         202003      84500      9749.0    1720    9714.56\n",
       "1   20200313  TX         202003      84501      9737.0       2    9730.19\n",
       "2   20200313  TX         202003      84502      9720.0       4    9724.68\n",
       "3   20200313  TX         202003      84503      9720.0       4    9717.49\n",
       "4   20200313  TX         202003      84504      9715.0       2    9739.75"
      ]
     },
     "execution_count": 72,
     "metadata": {},
     "output_type": "execute_result"
    }
   ],
   "source": [
    "df = pd.read_csv(os.path.join(Future_path, Fut_csv_List[0]), encoding = 'cp950')\n",
    "df.head()"
   ]
  },
  {
   "cell_type": "code",
   "execution_count": 79,
   "metadata": {},
   "outputs": [
    {
     "data": {
      "text/plain": [
       "Maturity\n",
       "    202003W4      61580.0\n",
       "    202004         9246.0\n",
       "    202005          148.0\n",
       "    202006          100.0\n",
       "    202009           12.0\n",
       "    202012            2.0\n",
       "Name: Volumn, dtype: float64"
      ]
     },
     "execution_count": 79,
     "metadata": {},
     "output_type": "execute_result"
    }
   ],
   "source": [
    "df.groupby('Maturity').Volumn.sum()"
   ]
  },
  {
   "cell_type": "code",
   "execution_count": 81,
   "metadata": {},
   "outputs": [
    {
     "data": {
      "text/plain": [
       "numpy.int64"
      ]
     },
     "execution_count": 81,
     "metadata": {},
     "output_type": "execute_result"
    }
   ],
   "source": [
    "type(df.TransDate[0])"
   ]
  },
  {
   "cell_type": "markdown",
   "metadata": {},
   "source": [
    "## Divided the Option data into Open interval and close interval "
   ]
  },
  {
   "cell_type": "code",
   "execution_count": 5,
   "metadata": {},
   "outputs": [],
   "source": [
    "OptionOpen_path = os.path.join(work_dir, 'Data', 'OptionOpen')\n",
    "OptionClose_path = os.path.join(work_dir, 'Data', 'OptionClose')"
   ]
  },
  {
   "cell_type": "code",
   "execution_count": 6,
   "metadata": {},
   "outputs": [],
   "source": [
    "def divide_csv(dataCsv):\n",
    "    df = pd.read_csv(os.path.join(Option_path, dataCsv), encoding = 'cp950')\n",
    "    df_open = df[(df.TransTime.between(left=84500, right=85000))] \n",
    "    df_close = df[(df.TransTime.between(left=134000, right=134500))] \n",
    "    df_open.to_csv(os.path.join(OptionOpen_path, dataCsv), index = False)\n",
    "    df_close.to_csv(os.path.join(OptionClose_path, dataCsv), index = False)\n",
    "    print(\"writing file to {}\".format(dataCsv))"
   ]
  },
  {
   "cell_type": "code",
   "execution_count": 8,
   "metadata": {},
   "outputs": [
    {
     "data": {
      "text/plain": [
       "'C:\\\\Users\\\\Evan\\\\Documents\\\\GitHub\\\\TXO_TX_Strategy\\\\Data\\\\OptionOpen'"
      ]
     },
     "execution_count": 8,
     "metadata": {},
     "output_type": "execute_result"
    }
   ],
   "source": [
    "OptionOpen_path"
   ]
  },
  {
   "cell_type": "code",
   "execution_count": null,
   "metadata": {},
   "outputs": [],
   "source": []
  }
 ],
 "metadata": {
  "kernelspec": {
   "display_name": "Python 3",
   "language": "python",
   "name": "python3"
  },
  "language_info": {
   "codemirror_mode": {
    "name": "ipython",
    "version": 3
   },
   "file_extension": ".py",
   "mimetype": "text/x-python",
   "name": "python",
   "nbconvert_exporter": "python",
   "pygments_lexer": "ipython3",
   "version": "3.7.4"
  }
 },
 "nbformat": 4,
 "nbformat_minor": 2
}
