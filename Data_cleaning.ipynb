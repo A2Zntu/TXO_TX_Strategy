{
 "cells": [
  {
   "cell_type": "markdown",
   "metadata": {},
   "source": [
    "## We extract only TXO and TX from 2020/03/13 to 2020/04/24"
   ]
  },
  {
   "cell_type": "markdown",
   "metadata": {},
   "source": [
    "* Data resorce:    \n",
    "    * Futures:  http://www.taifex.com.tw/cht/3/dlFutPrevious30DaysSalesData  \n",
    "    * Options:  http://www.taifex.com.tw/cht/3/dlOptPrevious30DaysSalesData\n",
    "* Data exclude:\n",
    "    * Options: Only include the open 5 mins trading information, which is, 84500 ~ 85000\n",
    "    * Futures: Include every transaction data"
   ]
  },
  {
   "cell_type": "code",
   "execution_count": 36,
   "metadata": {},
   "outputs": [],
   "source": [
    "import pandas as pd \n",
    "import numpy as np \n",
    "import os, glob\n",
    "import datetime as dt"
   ]
  },
  {
   "cell_type": "code",
   "execution_count": 2,
   "metadata": {},
   "outputs": [
    {
     "data": {
      "text/plain": [
       "'C:\\\\Users\\\\Evan\\\\Documents\\\\GitHub\\\\TXO_TX_Strategy'"
      ]
     },
     "execution_count": 2,
     "metadata": {},
     "output_type": "execute_result"
    }
   ],
   "source": [
    "work_dir = os.getcwd()\n",
    "work_dir"
   ]
  },
  {
   "cell_type": "code",
   "execution_count": 43,
   "metadata": {},
   "outputs": [],
   "source": [
    "Option_path = os.path.join(work_dir, 'Data', 'Option')\n",
    "Future_path = os.path.join(work_dir, 'Data', 'Futures')"
   ]
  },
  {
   "cell_type": "code",
   "execution_count": 30,
   "metadata": {},
   "outputs": [],
   "source": [
    "vacations = [dt.date(2020, 4, 2), dt.date(2020, 4, 3)] # Taiwan vacations"
   ]
  },
  {
   "cell_type": "code",
   "execution_count": 33,
   "metadata": {},
   "outputs": [],
   "source": [
    "dates = pd.bdate_range(start='3/13/2020', end='4/24/2020')\n",
    "dates = dates.drop(vacations)"
   ]
  },
  {
   "cell_type": "code",
   "execution_count": 34,
   "metadata": {},
   "outputs": [
    {
     "data": {
      "text/plain": [
       "(29,)"
      ]
     },
     "execution_count": 34,
     "metadata": {},
     "output_type": "execute_result"
    }
   ],
   "source": [
    "dates.shape"
   ]
  },
  {
   "cell_type": "markdown",
   "metadata": {},
   "source": [
    "## Collect all the csv name"
   ]
  },
  {
   "cell_type": "code",
   "execution_count": 40,
   "metadata": {},
   "outputs": [
    {
     "data": {
      "text/plain": [
       "['OptionsDaily_2020_03_13.csv',\n",
       " 'OptionsDaily_2020_03_16.csv',\n",
       " 'OptionsDaily_2020_03_17.csv',\n",
       " 'OptionsDaily_2020_03_18.csv',\n",
       " 'OptionsDaily_2020_03_19.csv',\n",
       " 'OptionsDaily_2020_03_20.csv',\n",
       " 'OptionsDaily_2020_03_23.csv',\n",
       " 'OptionsDaily_2020_03_24.csv',\n",
       " 'OptionsDaily_2020_03_25.csv',\n",
       " 'OptionsDaily_2020_03_26.csv',\n",
       " 'OptionsDaily_2020_03_27.csv',\n",
       " 'OptionsDaily_2020_03_30.csv',\n",
       " 'OptionsDaily_2020_03_31.csv',\n",
       " 'OptionsDaily_2020_04_01.csv',\n",
       " 'OptionsDaily_2020_04_06.csv',\n",
       " 'OptionsDaily_2020_04_07.csv',\n",
       " 'OptionsDaily_2020_04_08.csv',\n",
       " 'OptionsDaily_2020_04_09.csv',\n",
       " 'OptionsDaily_2020_04_10.csv',\n",
       " 'OptionsDaily_2020_04_13.csv',\n",
       " 'OptionsDaily_2020_04_14.csv',\n",
       " 'OptionsDaily_2020_04_15.csv',\n",
       " 'OptionsDaily_2020_04_16.csv',\n",
       " 'OptionsDaily_2020_04_17.csv',\n",
       " 'OptionsDaily_2020_04_20.csv',\n",
       " 'OptionsDaily_2020_04_21.csv',\n",
       " 'OptionsDaily_2020_04_22.csv',\n",
       " 'OptionsDaily_2020_04_23.csv',\n",
       " 'OptionsDaily_2020_04_24.csv']"
      ]
     },
     "execution_count": 40,
     "metadata": {},
     "output_type": "execute_result"
    }
   ],
   "source": [
    "extension = 'csv'\n",
    "os.chdir(Option_path)\n",
    "Opt_csv_List = glob.glob('*.{}'.format(extension))"
   ]
  },
  {
   "cell_type": "markdown",
   "metadata": {},
   "source": [
    "## Read the Option csv and data cleaning"
   ]
  },
  {
   "cell_type": "code",
   "execution_count": 96,
   "metadata": {},
   "outputs": [],
   "source": [
    "def output_csv(dataCsv):\n",
    "    df = pd.read_csv(os.path.join(Option_path, dataCsv), encoding = 'cp950')\n",
    "    columns_name = ['TransDate', 'Product', 'ExcercisePrice', 'Maturity', 'Right', 'TransTime', 'TransPrice', 'Volumn', 'E']\n",
    "    df.columns  = columns_name \n",
    "    df_new = df[(df.Product == '    TXO     ') & ((df.TransTime.between(left=84500, right=85000)) | (df.TransTime.between(left=134000, right=134500)))]\n",
    "    df_new = df_new.drop('E', axis = 1)\n",
    "    df_new.to_csv(os.path.join(Option_path, dataCsv), index = False)\n",
    "    print(\"writing file to {}\".format(dataCsv))"
   ]
  },
  {
   "cell_type": "code",
   "execution_count": null,
   "metadata": {},
   "outputs": [
    {
     "name": "stderr",
     "output_type": "stream",
     "text": [
      "C:\\Users\\Evan\\Anaconda3\\lib\\site-packages\\IPython\\core\\interactiveshell.py:3249: DtypeWarning: Columns (0) have mixed types.Specify dtype option on import or set low_memory=False.\n",
      "  if (await self.run_code(code, result,  async_=asy)):\n"
     ]
    },
    {
     "name": "stdout",
     "output_type": "stream",
     "text": [
      "writing file to OptionsDaily_2020_03_16.csv\n",
      "writing file to OptionsDaily_2020_03_17.csv\n"
     ]
    }
   ],
   "source": [
    "for dataCsv in Opt_csv_List: \n",
    "    if dataCsv == Opt_csv_List[0]: \n",
    "        pass\n",
    "    else: \n",
    "        output_csv(dataCsv)"
   ]
  },
  {
   "cell_type": "markdown",
   "metadata": {},
   "source": [
    "## Read the Future csv and data cleaning"
   ]
  },
  {
   "cell_type": "code",
   "execution_count": 44,
   "metadata": {},
   "outputs": [
    {
     "data": {
      "text/plain": [
       "['Daily_2020_03_13.csv',\n",
       " 'Daily_2020_03_16.csv',\n",
       " 'Daily_2020_03_17.csv',\n",
       " 'Daily_2020_03_18.csv',\n",
       " 'Daily_2020_03_19.csv',\n",
       " 'Daily_2020_03_20.csv',\n",
       " 'Daily_2020_03_23.csv',\n",
       " 'Daily_2020_03_24.csv',\n",
       " 'Daily_2020_03_25.csv',\n",
       " 'Daily_2020_03_26.csv',\n",
       " 'Daily_2020_03_27.csv',\n",
       " 'Daily_2020_03_30.csv',\n",
       " 'Daily_2020_03_31.csv',\n",
       " 'Daily_2020_04_01.csv',\n",
       " 'Daily_2020_04_06.csv',\n",
       " 'Daily_2020_04_07.csv',\n",
       " 'Daily_2020_04_08.csv',\n",
       " 'Daily_2020_04_09.csv',\n",
       " 'Daily_2020_04_10.csv',\n",
       " 'Daily_2020_04_13.csv',\n",
       " 'Daily_2020_04_14.csv',\n",
       " 'Daily_2020_04_15.csv',\n",
       " 'Daily_2020_04_16.csv',\n",
       " 'Daily_2020_04_17.csv',\n",
       " 'Daily_2020_04_20.csv',\n",
       " 'Daily_2020_04_21.csv',\n",
       " 'Daily_2020_04_22.csv',\n",
       " 'Daily_2020_04_23.csv',\n",
       " 'Daily_2020_04_24.csv']"
      ]
     },
     "execution_count": 44,
     "metadata": {},
     "output_type": "execute_result"
    }
   ],
   "source": [
    "os.chdir(Future_path)\n",
    "Fut_csv_List = glob.glob('*.{}'.format(extension))\n",
    "Fut_csv_List"
   ]
  },
  {
   "cell_type": "code",
   "execution_count": null,
   "metadata": {},
   "outputs": [],
   "source": []
  }
 ],
 "metadata": {
  "kernelspec": {
   "display_name": "Python 3",
   "language": "python",
   "name": "python3"
  },
  "language_info": {
   "codemirror_mode": {
    "name": "ipython",
    "version": 3
   },
   "file_extension": ".py",
   "mimetype": "text/x-python",
   "name": "python",
   "nbconvert_exporter": "python",
   "pygments_lexer": "ipython3",
   "version": "3.7.4"
  }
 },
 "nbformat": 4,
 "nbformat_minor": 2
}
