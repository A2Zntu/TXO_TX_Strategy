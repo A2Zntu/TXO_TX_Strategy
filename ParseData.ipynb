{
 "cells": [
  {
   "cell_type": "code",
   "execution_count": 8,
   "metadata": {},
   "outputs": [],
   "source": [
    "from bs4 import BeautifulSoup \n",
    "import requests\n",
    "from selenium import webdriver\n",
    "from selenium.webdriver.common.keys import Keys\n",
    "from selenium.webdriver import ActionChains\n",
    "from selenium.webdriver.support.ui import WebDriverWait\n",
    "import pandas as pd\n",
    "import matplotlib.pyplot as plt\n",
    "import os\n",
    "import numpy as np\n",
    "import time\n",
    "import re\n",
    "import warnings\n",
    "import json \n",
    "import datetime as dt\n",
    "import zipfile\n",
    "warnings.filterwarnings('ignore')"
   ]
  },
  {
   "cell_type": "code",
   "execution_count": 45,
   "metadata": {},
   "outputs": [
    {
     "data": {
      "text/plain": [
       "'C:\\\\Users\\\\Evan\\\\Documents\\\\GitHub\\\\TXO_TX_Strategy'"
      ]
     },
     "execution_count": 45,
     "metadata": {},
     "output_type": "execute_result"
    }
   ],
   "source": [
    "work_dir = os.getcwd()\n",
    "work_dir"
   ]
  },
  {
   "cell_type": "markdown",
   "metadata": {},
   "source": [
    "## Parse the Website Data"
   ]
  },
  {
   "cell_type": "code",
   "execution_count": 46,
   "metadata": {},
   "outputs": [],
   "source": [
    "def dt_2_string(date): \n",
    "    sy = str(date.year)\n",
    "    if date.month < 10:\n",
    "        sm = \"0\" + str(date.month)\n",
    "    else: \n",
    "        sm = str(date.month)\n",
    "    \n",
    "    if date.day < 10:\n",
    "        sd = \"0\" + str(date.day)\n",
    "    else: \n",
    "        sd = str(date.day)\n",
    "    s = sy + '_' + sm + '_' + sd\n",
    "    \n",
    "    return s"
   ]
  },
  {
   "cell_type": "code",
   "execution_count": 53,
   "metadata": {},
   "outputs": [],
   "source": [
    "def scratch_Data(product, Date):\n",
    "    \n",
    "    '''\n",
    "    @product: Either 'future' or 'option'\n",
    "    @Date: must be datetime.date\n",
    "    '''\n",
    "    \n",
    "    s = ''\n",
    "    if product == 'future':\n",
    "        s += '/DailydownloadCSV/Daily_'\n",
    "        dirPath = 'Futures'\n",
    "    elif product == 'option':\n",
    "        s += '/OptionsDailydownloadCSV/OptionsDaily_'\n",
    "        dirPath = 'Options'\n",
    "        \n",
    "    sDate = dt_2_string(Date) + '.zip'\n",
    "    s += sDate\n",
    "        \n",
    "    url = 'https://www.taifex.com.tw/file/taifex/Dailydownload' + s\n",
    "    print(url)\n",
    "    results_path = str(os.path.join(work_dir, 'ParseData', dirPath))\n",
    "    chrome_options = webdriver.ChromeOptions() \n",
    "    prefs = {'download.default_directory' : results_path}\n",
    "    chrome_options.add_experimental_option('prefs', prefs)\n",
    "\n",
    "    main_driver = webdriver.Chrome('C:\\\\webdrivers\\\\chromedriver', options = chrome_options)  \n",
    "    main_driver.implicitly_wait(2) #wait for 2 sec\n",
    "    main_driver.get(url)\n",
    "    main_driver.implicitly_wait(10)\n",
    "    "
   ]
  },
  {
   "cell_type": "code",
   "execution_count": null,
   "metadata": {},
   "outputs": [],
   "source": []
  },
  {
   "cell_type": "code",
   "execution_count": 55,
   "metadata": {},
   "outputs": [
    {
     "name": "stdout",
     "output_type": "stream",
     "text": [
      "https://www.taifex.com.tw/file/taifex/Dailydownload/OptionsDailydownloadCSV/OptionsDaily_2020_05_05.zip\n",
      "https://www.taifex.com.tw/file/taifex/Dailydownload/OptionsDailydownloadCSV/OptionsDaily_2020_05_06.zip\n"
     ]
    }
   ],
   "source": [
    "if __name__ ==  '__main__':\n",
    "    sDate = dt.date(2020, 5, 5)\n",
    "    eDate = dt.date(2020, 5, 6)\n",
    "    dateList =  pd.bdate_range(start=sDate, end=eDate)\n",
    "    for date in dateList: \n",
    "#         scratch_Data(product = 'future', Date = date)\n",
    "        scratch_Data(product = 'option', Date = date)"
   ]
  },
  {
   "cell_type": "code",
   "execution_count": 39,
   "metadata": {},
   "outputs": [],
   "source": []
  },
  {
   "cell_type": "code",
   "execution_count": null,
   "metadata": {},
   "outputs": [],
   "source": []
  }
 ],
 "metadata": {
  "kernelspec": {
   "display_name": "Python 3",
   "language": "python",
   "name": "python3"
  },
  "language_info": {
   "codemirror_mode": {
    "name": "ipython",
    "version": 3
   },
   "file_extension": ".py",
   "mimetype": "text/x-python",
   "name": "python",
   "nbconvert_exporter": "python",
   "pygments_lexer": "ipython3",
   "version": "3.7.4"
  }
 },
 "nbformat": 4,
 "nbformat_minor": 2
}
