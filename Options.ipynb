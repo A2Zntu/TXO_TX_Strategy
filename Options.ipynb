{
 "cells": [
  {
   "cell_type": "code",
   "execution_count": 1,
   "metadata": {},
   "outputs": [],
   "source": [
    "import pandas as pd\n",
    "from datetime import date, datetime\n",
    "import numpy as np\n",
    "import os, glob"
   ]
  },
  {
   "cell_type": "code",
   "execution_count": 2,
   "metadata": {},
   "outputs": [],
   "source": [
    "work_dir = os.getcwd()\n",
    "Option_path = os.path.join(work_dir, 'Data', 'Option')"
   ]
  },
  {
   "cell_type": "code",
   "execution_count": 20,
   "metadata": {},
   "outputs": [],
   "source": [
    "class Options:\n",
    "    \"\"\"\n",
    "    Contain info for Options\n",
    "    \"\"\"\n",
    "    def __init__(self, path, dataCsv):\n",
    "        self.df = pd.read_csv(os.path.join(path, dataCsv))\n",
    "        self.transDate = self.df.TransDate[0]\n",
    "        self.length = len(self.df)\n",
    "        self.interval = self.whichInterval()\n",
    "        \n",
    "    def get_transDate(self): \n",
    "        return self.transDate\n",
    "    \n",
    "    def get_length(self): \n",
    "        return self.length\n",
    "    \n",
    "    def get_maturity(self, idx): \n",
    "        if isinstance(self.df.Maturity[idx], float): \n",
    "            return str(int(self.df.Maturity[idx]))\n",
    "        return str(self.df.Maturity[idx])\n",
    "    \n",
    "    def get_right(self, idx): \n",
    "        return str(self.df.Right[idx].replace(\" \", \"\"))\n",
    "    \n",
    "    def get_transPrice(self, idx): \n",
    "        return self.df.TransPrice[idx]\n",
    "    \n",
    "    def get_volumn(self, idx): \n",
    "        return self.df.Volumn[idx]\n",
    "    \n",
    "    def get_excercisePrice(self, idx):\n",
    "        return int(self.df.ExcercisePrice[idx])\n",
    "        \n",
    "    def get_transTime(self, idx): \n",
    "        return int(self.df.TransTime[idx])\n",
    "    \n",
    "    def whichInterval(self):\n",
    "        if self.get_transTime(0) <= 85000: \n",
    "            return \"Openinterval\"\n",
    "        else: \n",
    "            return \"Closeinterval\"\n",
    "        \n",
    "    def get_interval(self): \n",
    "        return self.interval"
   ]
  },
  {
   "cell_type": "code",
   "execution_count": 30,
   "metadata": {},
   "outputs": [],
   "source": [
    "path = 'C:\\\\Users\\\\Evan\\\\Documents\\\\GitHub\\\\TXO_TX_Strategy\\\\Data\\\\OptionOpen'\n",
    "dataCsv = 'OptionsDaily_2020_03_13.csv'\n",
    "Opt1 = Options(path, dataCsv)"
   ]
  },
  {
   "cell_type": "code",
   "execution_count": 34,
   "metadata": {},
   "outputs": [
    {
     "data": {
      "text/plain": [
       "'P'"
      ]
     },
     "execution_count": 34,
     "metadata": {},
     "output_type": "execute_result"
    }
   ],
   "source": [
    "Opt1.get_right(0).replace(\" \", \"\")"
   ]
  },
  {
   "cell_type": "code",
   "execution_count": null,
   "metadata": {},
   "outputs": [],
   "source": []
  }
 ],
 "metadata": {
  "kernelspec": {
   "display_name": "Python 3",
   "language": "python",
   "name": "python3"
  },
  "language_info": {
   "codemirror_mode": {
    "name": "ipython",
    "version": 3
   },
   "file_extension": ".py",
   "mimetype": "text/x-python",
   "name": "python",
   "nbconvert_exporter": "python",
   "pygments_lexer": "ipython3",
   "version": "3.7.4"
  }
 },
 "nbformat": 4,
 "nbformat_minor": 2
}
