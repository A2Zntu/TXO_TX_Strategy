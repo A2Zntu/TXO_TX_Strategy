{
 "cells": [
  {
   "cell_type": "code",
   "execution_count": 9,
   "metadata": {},
   "outputs": [],
   "source": [
    "import pandas as pd\n",
    "from datetime import date, datetime\n",
    "import numpy as np\n",
    "import os, glob"
   ]
  },
  {
   "cell_type": "code",
   "execution_count": 7,
   "metadata": {},
   "outputs": [],
   "source": [
    "work_dir = os.getcwd()\n",
    "Future_path = os.path.join(work_dir, 'Data', 'Futures')"
   ]
  },
  {
   "cell_type": "code",
   "execution_count": 69,
   "metadata": {},
   "outputs": [],
   "source": [
    "class Futures:\n",
    "    \"\"\"\n",
    "    Calculate the Greeks letter for Option \n",
    "    \"\"\"\n",
    "    def __init__(self, dataCsv):\n",
    "        self.df = pd.read_csv(os.path.join(Future_path, dataCsv))\n",
    "        self.transDate = self.df.TransDate[0]\n",
    "        self.Maturity = self.df.Maturity[0]\n",
    "        \n",
    "    def get_transDate(self): \n",
    "        return self.transDate\n",
    "    \n",
    "    def get_Maturity(self): \n",
    "        return self.Maturity\n",
    "    \n",
    "    def get_TransPrice(self, tTime): \n",
    "        p = 0.0\n",
    "        try:  \n",
    "            p = round(float(self.df[self.df.TransTime == tTime]['meanPrice']), 2)\n",
    "        except TypeError: \n",
    "            unFind = True\n",
    "            while unFind: # Deal with the not exist transTime\n",
    "                tTime -=1 \n",
    "                try: \n",
    "                    p = round(float(self.df[self.df.TransTime == tTime]['meanPrice']), 2)\n",
    "                    unFind = False\n",
    "                except TypeError:\n",
    "                    continue      \n",
    "        return p\n",
    "    \n",
    "    def get_period_returns(self, sTime, eTime): \n",
    "        P0 = self.get_TransPrice(sTime)\n",
    "        P1 = self.get_TransPrice(eTime)\n",
    "        return (P0 - P1)/P1"
   ]
  },
  {
   "cell_type": "code",
   "execution_count": 70,
   "metadata": {},
   "outputs": [],
   "source": [
    "\n",
    "extension = 'csv'\n",
    "os.chdir(Future_path)\n",
    "Fut_csv_List = glob.glob('*.{}'.format(extension))"
   ]
  },
  {
   "cell_type": "code",
   "execution_count": 71,
   "metadata": {},
   "outputs": [],
   "source": [
    "F1 = Futures(Fut_csv_List[0])"
   ]
  },
  {
   "cell_type": "code",
   "execution_count": 72,
   "metadata": {},
   "outputs": [
    {
     "data": {
      "text/plain": [
       "10011.79"
      ]
     },
     "execution_count": 72,
     "metadata": {},
     "output_type": "execute_result"
    }
   ],
   "source": [
    "F1.get_TransPrice(134500)"
   ]
  },
  {
   "cell_type": "code",
   "execution_count": 73,
   "metadata": {},
   "outputs": [
    {
     "data": {
      "text/plain": [
       "-0.0254589838580315"
      ]
     },
     "execution_count": 73,
     "metadata": {},
     "output_type": "execute_result"
    }
   ],
   "source": [
    "F1.get_period_returns(85000, 134500)"
   ]
  },
  {
   "cell_type": "code",
   "execution_count": null,
   "metadata": {},
   "outputs": [],
   "source": []
  }
 ],
 "metadata": {
  "kernelspec": {
   "display_name": "Python 3",
   "language": "python",
   "name": "python3"
  },
  "language_info": {
   "codemirror_mode": {
    "name": "ipython",
    "version": 3
   },
   "file_extension": ".py",
   "mimetype": "text/x-python",
   "name": "python",
   "nbconvert_exporter": "python",
   "pygments_lexer": "ipython3",
   "version": "3.7.4"
  }
 },
 "nbformat": 4,
 "nbformat_minor": 2
}
