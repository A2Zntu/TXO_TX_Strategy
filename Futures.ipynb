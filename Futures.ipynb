{
 "cells": [
  {
   "cell_type": "code",
   "execution_count": 2,
   "metadata": {},
   "outputs": [],
   "source": [
    "import pandas as pd\n",
    "from datetime import date, datetime\n",
    "import numpy as np\n",
    "import os, glob"
   ]
  },
  {
   "cell_type": "code",
   "execution_count": 3,
   "metadata": {},
   "outputs": [],
   "source": [
    "work_dir = os.getcwd()\n",
    "Future_path = os.path.join(work_dir, 'Data', 'Futures')"
   ]
  },
  {
   "cell_type": "code",
   "execution_count": 3,
   "metadata": {},
   "outputs": [],
   "source": [
    "class Futures:\n",
    "    \"\"\"\n",
    "    Contain info for Futures\n",
    "    \"\"\"\n",
    "    def __init__(self, dataCsv):\n",
    "        self.df = pd.read_csv(os.path.join(Future_path, dataCsv))\n",
    "        self.transDate = self.df.TransDate[0]\n",
    "        self.Maturity = self.df.Maturity[0]\n",
    "        \n",
    "    def get_transDate(self): \n",
    "        return self.transDate\n",
    "    \n",
    "    def get_Maturity(self): \n",
    "        return self.Maturity\n",
    "    \n",
    "    def get_TransPrice(self, tTime): \n",
    "        p = float(self.df.meanPrice[0])\n",
    "        try:  \n",
    "            p = round(float(self.df[self.df.TransTime == tTime]['meanPrice']), 2)\n",
    "            return p\n",
    "        except TypeError: \n",
    "            return p \n",
    "        \n",
    "    \n",
    "    def get_period_returns(self, sTime, eTime): \n",
    "        P0 = self.get_TransPrice(sTime)\n",
    "        P1 = self.get_TransPrice(eTime)\n",
    "        return (P0 - P1)/P1"
   ]
  },
  {
   "cell_type": "code",
   "execution_count": null,
   "metadata": {},
   "outputs": [],
   "source": []
  }
 ],
 "metadata": {
  "kernelspec": {
   "display_name": "Python 3",
   "language": "python",
   "name": "python3"
  },
  "language_info": {
   "codemirror_mode": {
    "name": "ipython",
    "version": 3
   },
   "file_extension": ".py",
   "mimetype": "text/x-python",
   "name": "python",
   "nbconvert_exporter": "python",
   "pygments_lexer": "ipython3",
   "version": "3.7.4"
  }
 },
 "nbformat": 4,
 "nbformat_minor": 2
}
