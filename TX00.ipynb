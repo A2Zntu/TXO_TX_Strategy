{
 "cells": [
  {
   "cell_type": "code",
   "execution_count": 1,
   "metadata": {},
   "outputs": [],
   "source": [
    "%run Futures.ipynb"
   ]
  },
  {
   "cell_type": "code",
   "execution_count": 2,
   "metadata": {},
   "outputs": [],
   "source": [
    "import pandas as pd \n",
    "import matplotlib.pyplot as plt \n",
    "import numpy as np \n",
    "import os, glob\n",
    "import statistics"
   ]
  },
  {
   "cell_type": "code",
   "execution_count": 3,
   "metadata": {},
   "outputs": [
    {
     "data": {
      "text/plain": [
       "'C:\\\\Users\\\\Evan\\\\Documents\\\\GitHub\\\\TXO_TX_Strategy'"
      ]
     },
     "execution_count": 3,
     "metadata": {},
     "output_type": "execute_result"
    }
   ],
   "source": [
    "work_dir = os.getcwd()\n",
    "work_dir"
   ]
  },
  {
   "cell_type": "code",
   "execution_count": 4,
   "metadata": {},
   "outputs": [],
   "source": [
    "extension = 'csv'\n",
    "Future_path = os.path.join(work_dir, 'Data', 'Futures')\n",
    "os.chdir(Future_path)\n",
    "Fut_csv_List = glob.glob('*.{}'.format(extension))\n"
   ]
  },
  {
   "cell_type": "code",
   "execution_count": 5,
   "metadata": {},
   "outputs": [],
   "source": [
    "Data_path = os.path.join(work_dir, 'Data', 'TX00')\n",
    "TX = pd.read_csv(os.path.join(Data_path, 'TX_0424.csv'), encoding = 'cp950')\n",
    "TX['日期'] = pd.to_datetime(TX['日期']) "
   ]
  },
  {
   "cell_type": "code",
   "execution_count": 6,
   "metadata": {},
   "outputs": [],
   "source": [
    "TX00 = TX.drop_duplicates(subset = ['日期'], keep = 'first').reset_index(drop=True)"
   ]
  },
  {
   "cell_type": "code",
   "execution_count": 7,
   "metadata": {},
   "outputs": [
    {
     "data": {
      "text/html": [
       "<div>\n",
       "<style scoped>\n",
       "    .dataframe tbody tr th:only-of-type {\n",
       "        vertical-align: middle;\n",
       "    }\n",
       "\n",
       "    .dataframe tbody tr th {\n",
       "        vertical-align: top;\n",
       "    }\n",
       "\n",
       "    .dataframe thead th {\n",
       "        text-align: right;\n",
       "    }\n",
       "</style>\n",
       "<table border=\"1\" class=\"dataframe\">\n",
       "  <thead>\n",
       "    <tr style=\"text-align: right;\">\n",
       "      <th></th>\n",
       "      <th>期貨名稱</th>\n",
       "      <th>日期</th>\n",
       "      <th>到期月</th>\n",
       "      <th>開盤價</th>\n",
       "      <th>收盤價</th>\n",
       "      <th>每日結算價</th>\n",
       "      <th>未平倉合約數</th>\n",
       "      <th>無風險利率</th>\n",
       "    </tr>\n",
       "  </thead>\n",
       "  <tbody>\n",
       "    <tr>\n",
       "      <th>24</th>\n",
       "      <td>TX202005 台指 2020/05</td>\n",
       "      <td>2020-04-20</td>\n",
       "      <td>20-May</td>\n",
       "      <td>10538.0</td>\n",
       "      <td>10525.0</td>\n",
       "      <td>10475</td>\n",
       "      <td>76238</td>\n",
       "      <td>0.795</td>\n",
       "    </tr>\n",
       "    <tr>\n",
       "      <th>25</th>\n",
       "      <td>TX202005 台指 2020/05</td>\n",
       "      <td>2020-04-21</td>\n",
       "      <td>20-May</td>\n",
       "      <td>10476.0</td>\n",
       "      <td>10395.0</td>\n",
       "      <td>10196</td>\n",
       "      <td>84193</td>\n",
       "      <td>0.795</td>\n",
       "    </tr>\n",
       "    <tr>\n",
       "      <th>26</th>\n",
       "      <td>TX202005 台指 2020/05</td>\n",
       "      <td>2020-04-22</td>\n",
       "      <td>20-May</td>\n",
       "      <td>10231.0</td>\n",
       "      <td>10129.0</td>\n",
       "      <td>10222</td>\n",
       "      <td>81780</td>\n",
       "      <td>0.795</td>\n",
       "    </tr>\n",
       "    <tr>\n",
       "      <th>27</th>\n",
       "      <td>TX202005 台指 2020/05</td>\n",
       "      <td>2020-04-23</td>\n",
       "      <td>20-May</td>\n",
       "      <td>10240.0</td>\n",
       "      <td>10277.0</td>\n",
       "      <td>10292</td>\n",
       "      <td>80199</td>\n",
       "      <td>0.795</td>\n",
       "    </tr>\n",
       "    <tr>\n",
       "      <th>28</th>\n",
       "      <td>TX202005 台指 2020/05</td>\n",
       "      <td>2020-04-24</td>\n",
       "      <td>20-May</td>\n",
       "      <td>10308.0</td>\n",
       "      <td>10288.0</td>\n",
       "      <td>10268</td>\n",
       "      <td>80100</td>\n",
       "      <td>0.795</td>\n",
       "    </tr>\n",
       "  </tbody>\n",
       "</table>\n",
       "</div>"
      ],
      "text/plain": [
       "                   期貨名稱         日期     到期月      開盤價      收盤價  每日結算價  未平倉合約數  \\\n",
       "24  TX202005 台指 2020/05 2020-04-20  20-May  10538.0  10525.0  10475   76238   \n",
       "25  TX202005 台指 2020/05 2020-04-21  20-May  10476.0  10395.0  10196   84193   \n",
       "26  TX202005 台指 2020/05 2020-04-22  20-May  10231.0  10129.0  10222   81780   \n",
       "27  TX202005 台指 2020/05 2020-04-23  20-May  10240.0  10277.0  10292   80199   \n",
       "28  TX202005 台指 2020/05 2020-04-24  20-May  10308.0  10288.0  10268   80100   \n",
       "\n",
       "    無風險利率  \n",
       "24  0.795  \n",
       "25  0.795  \n",
       "26  0.795  \n",
       "27  0.795  \n",
       "28  0.795  "
      ]
     },
     "execution_count": 7,
     "metadata": {},
     "output_type": "execute_result"
    }
   ],
   "source": [
    "TX00.tail()"
   ]
  },
  {
   "cell_type": "code",
   "execution_count": 8,
   "metadata": {},
   "outputs": [],
   "source": [
    "List5min = []\n",
    "for dataCsv in Fut_csv_List: \n",
    "    Fut = Futures(dataCsv)\n",
    "    List5min.append(Fut.get_TransPrice(tTime = 85000))"
   ]
  },
  {
   "cell_type": "code",
   "execution_count": 13,
   "metadata": {},
   "outputs": [],
   "source": [
    "TX00['CC'] = TX00['每日結算價'].pct_change()\n",
    "TX00['OC'] = (TX00['收盤價'] - TX00['開盤價'])/TX00['開盤價']\n",
    "TX00['SP'] = List5min \n",
    "TX00['SC'] = (TX00['收盤價'] - TX00['SP'])/TX00['SP']"
   ]
  },
  {
   "cell_type": "code",
   "execution_count": 14,
   "metadata": {},
   "outputs": [
    {
     "data": {
      "text/html": [
       "<div>\n",
       "<style scoped>\n",
       "    .dataframe tbody tr th:only-of-type {\n",
       "        vertical-align: middle;\n",
       "    }\n",
       "\n",
       "    .dataframe tbody tr th {\n",
       "        vertical-align: top;\n",
       "    }\n",
       "\n",
       "    .dataframe thead th {\n",
       "        text-align: right;\n",
       "    }\n",
       "</style>\n",
       "<table border=\"1\" class=\"dataframe\">\n",
       "  <thead>\n",
       "    <tr style=\"text-align: right;\">\n",
       "      <th></th>\n",
       "      <th>期貨名稱</th>\n",
       "      <th>日期</th>\n",
       "      <th>到期月</th>\n",
       "      <th>開盤價</th>\n",
       "      <th>收盤價</th>\n",
       "      <th>每日結算價</th>\n",
       "      <th>未平倉合約數</th>\n",
       "      <th>無風險利率</th>\n",
       "      <th>CC</th>\n",
       "      <th>OC</th>\n",
       "      <th>SC</th>\n",
       "      <th>SP</th>\n",
       "    </tr>\n",
       "  </thead>\n",
       "  <tbody>\n",
       "    <tr>\n",
       "      <th>0</th>\n",
       "      <td>TX202003 台指 2020/03</td>\n",
       "      <td>2020-03-13</td>\n",
       "      <td>20-Mar</td>\n",
       "      <td>10362.0</td>\n",
       "      <td>9822.0</td>\n",
       "      <td>10027</td>\n",
       "      <td>94984</td>\n",
       "      <td>1.0</td>\n",
       "      <td>NaN</td>\n",
       "      <td>-0.052113</td>\n",
       "      <td>0.006672</td>\n",
       "      <td>9756.90</td>\n",
       "    </tr>\n",
       "    <tr>\n",
       "      <th>1</th>\n",
       "      <td>TX202003 台指 2020/03</td>\n",
       "      <td>2020-03-16</td>\n",
       "      <td>20-Mar</td>\n",
       "      <td>10030.0</td>\n",
       "      <td>10185.0</td>\n",
       "      <td>9679</td>\n",
       "      <td>70351</td>\n",
       "      <td>1.0</td>\n",
       "      <td>-0.034706</td>\n",
       "      <td>0.015454</td>\n",
       "      <td>0.027110</td>\n",
       "      <td>9916.17</td>\n",
       "    </tr>\n",
       "    <tr>\n",
       "      <th>2</th>\n",
       "      <td>TX202003 台指 2020/03</td>\n",
       "      <td>2020-03-17</td>\n",
       "      <td>20-Mar</td>\n",
       "      <td>9623.0</td>\n",
       "      <td>9215.0</td>\n",
       "      <td>9371</td>\n",
       "      <td>52372</td>\n",
       "      <td>1.0</td>\n",
       "      <td>-0.031821</td>\n",
       "      <td>-0.042398</td>\n",
       "      <td>-0.012686</td>\n",
       "      <td>9333.40</td>\n",
       "    </tr>\n",
       "    <tr>\n",
       "      <th>3</th>\n",
       "      <td>TX202003 台指 2020/03</td>\n",
       "      <td>2020-03-18</td>\n",
       "      <td>20-Mar</td>\n",
       "      <td>9396.0</td>\n",
       "      <td>9470.0</td>\n",
       "      <td>9264</td>\n",
       "      <td>40267</td>\n",
       "      <td>1.0</td>\n",
       "      <td>-0.011418</td>\n",
       "      <td>0.007876</td>\n",
       "      <td>0.018937</td>\n",
       "      <td>9294.00</td>\n",
       "    </tr>\n",
       "    <tr>\n",
       "      <th>4</th>\n",
       "      <td>TX202004 台指 2020/04</td>\n",
       "      <td>2020-03-19</td>\n",
       "      <td>20-Apr</td>\n",
       "      <td>8788.0</td>\n",
       "      <td>8728.0</td>\n",
       "      <td>8356</td>\n",
       "      <td>104495</td>\n",
       "      <td>1.0</td>\n",
       "      <td>-0.098014</td>\n",
       "      <td>-0.006827</td>\n",
       "      <td>-0.012323</td>\n",
       "      <td>8836.90</td>\n",
       "    </tr>\n",
       "  </tbody>\n",
       "</table>\n",
       "</div>"
      ],
      "text/plain": [
       "                  期貨名稱         日期     到期月      開盤價      收盤價  每日結算價  未平倉合約數  \\\n",
       "0  TX202003 台指 2020/03 2020-03-13  20-Mar  10362.0   9822.0  10027   94984   \n",
       "1  TX202003 台指 2020/03 2020-03-16  20-Mar  10030.0  10185.0   9679   70351   \n",
       "2  TX202003 台指 2020/03 2020-03-17  20-Mar   9623.0   9215.0   9371   52372   \n",
       "3  TX202003 台指 2020/03 2020-03-18  20-Mar   9396.0   9470.0   9264   40267   \n",
       "4  TX202004 台指 2020/04 2020-03-19  20-Apr   8788.0   8728.0   8356  104495   \n",
       "\n",
       "   無風險利率        CC        OC        SC       SP  \n",
       "0    1.0       NaN -0.052113  0.006672  9756.90  \n",
       "1    1.0 -0.034706  0.015454  0.027110  9916.17  \n",
       "2    1.0 -0.031821 -0.042398 -0.012686  9333.40  \n",
       "3    1.0 -0.011418  0.007876  0.018937  9294.00  \n",
       "4    1.0 -0.098014 -0.006827 -0.012323  8836.90  "
      ]
     },
     "execution_count": 14,
     "metadata": {},
     "output_type": "execute_result"
    }
   ],
   "source": [
    "TX00.head()"
   ]
  },
  {
   "cell_type": "code",
   "execution_count": 37,
   "metadata": {},
   "outputs": [],
   "source": [
    "date = TX00.日期.unique()"
   ]
  },
  {
   "cell_type": "markdown",
   "metadata": {},
   "source": [
    "# Description of the Performance"
   ]
  },
  {
   "cell_type": "code",
   "execution_count": 28,
   "metadata": {},
   "outputs": [],
   "source": [
    "def get_HPR(pnl):\n",
    "    days = len(pnl)\n",
    "    years = days/252\n",
    "    HPR = pnl[days-1]/100 - 1 \n",
    "    return HPR"
   ]
  },
  {
   "cell_type": "code",
   "execution_count": 29,
   "metadata": {},
   "outputs": [],
   "source": [
    "def get_APR(pnl): \n",
    "    days = len(pnl)\n",
    "    years = days/252\n",
    "    HPR = get_HPR(pnl)\n",
    "    APR = (HPR + 1)**(1/years) - 1 # annulized the cumulative returns\n",
    "    return APR"
   ]
  },
  {
   "cell_type": "code",
   "execution_count": 30,
   "metadata": {},
   "outputs": [],
   "source": [
    "def get_Sharp(pnl, rf): \n",
    "    Std = pnl.pct_change().std() # the standard deviation of the return \n",
    "    AStd = Std * np.sqrt(252) # annulized the std\n",
    "    APR = get_APR(pnl)\n",
    "    SharpRatio = round((APR - rf) / AStd, 4)\n",
    "    return SharpRatio"
   ]
  },
  {
   "cell_type": "code",
   "execution_count": 31,
   "metadata": {},
   "outputs": [],
   "source": [
    "def get_mdd(pnl):\n",
    "    dd = pnl - pnl.cummax()\n",
    "    dd_pct = dd/pnl.cummax()\n",
    "    mdd = round(dd_pct.min(), 4)\n",
    "    return mdd"
   ]
  },
  {
   "cell_type": "code",
   "execution_count": 32,
   "metadata": {},
   "outputs": [],
   "source": [
    "def print_performance(pnl, rf = 0.01045):\n",
    "    HPR = get_HPR(pnl) # the cumulative returns\n",
    "    APR = get_APR(pnl) # annulized the cumulative returns\n",
    "    SharpRatio = get_Sharp(pnl, rf)\n",
    "    mdd = get_mdd(pnl)\n",
    "    \n",
    "    print(\"HPR: \" + str(HPR)) \n",
    "    print(\"APR: \" + str(APR)) \n",
    "    print(\"Sharp Ratio: \" + str(SharpRatio))   \n",
    "    print(\"mdd: \" + str(mdd))"
   ]
  },
  {
   "cell_type": "code",
   "execution_count": 52,
   "metadata": {},
   "outputs": [],
   "source": [
    "def plot_performance(pnl, date, title_name):\n",
    "    \n",
    "    dd = pnl - pnl.cummax()\n",
    "    dd_pct = dd/pnl.cummax()\n",
    "    mdd = get_mdd(pnl)\n",
    "    HPR = get_HPR(pnl)\n",
    "    APR = get_APR(pnl)\n",
    "    \n",
    "    \n",
    "    plt.style.use('ggplot')\n",
    "    plt.figure(figsize=(10,5))\n",
    "    plt.grid()\n",
    "    plt.subplot(211)\n",
    "    plt.plot(date, pnl, color = 'Red')\n",
    "    plt.title(title_name)\n",
    "    plt.xlabel('Days', fontsize=14)\n",
    "    plt.ylabel('Price', fontsize=14)\n",
    "    \n",
    "    textstr = '\\n'.join((\n",
    "            r'HPR = %.4f' % (HPR, ),\n",
    "            r'APR = %.4f' % (APR, ), \n",
    "            r'MDD = %.4f' % (mdd, )))\n",
    "\n",
    "    plt.text(date[0], pnl.max()*0.99, textstr, fontsize=10,\n",
    "    verticalalignment='top', bbox=dict(facecolor='none', edgecolor='black', boxstyle='round,pad=1'))    \n",
    "    \n",
    "    \n",
    "\n",
    "    plt.subplot(212)\n",
    "    plt.bar(date, dd_pct, color = 'blue')\n",
    "    plt.xlabel('Days', fontsize=14)\n",
    "    plt.ylabel('Drawdown', fontsize=14)\n",
    "\n",
    "    plt.savefig(os.path.join(work_dir, 'Graph', title_name))\n",
    "    plt.show()"
   ]
  },
  {
   "cell_type": "markdown",
   "metadata": {},
   "source": [
    "# Strategy 1"
   ]
  },
  {
   "cell_type": "code",
   "execution_count": 34,
   "metadata": {},
   "outputs": [],
   "source": [
    "def buyandhold(data): \n",
    "    length = len(data)\n",
    "    idx = [True] * length \n",
    "    \n",
    "    data['LS'] = idx\n",
    "    data['pnl'] = 100 * (1 + data['LS'] * data['CC']).cumprod()\n",
    "    \n",
    "    return data['pnl']"
   ]
  },
  {
   "cell_type": "code",
   "execution_count": 50,
   "metadata": {},
   "outputs": [],
   "source": [
    "pnl = buyandhold(TX00)\n",
    "pnl.update(pd.Series([100], index=[0]))"
   ]
  },
  {
   "cell_type": "code",
   "execution_count": 53,
   "metadata": {},
   "outputs": [
    {
     "data": {
      "image/png": "[encoded data removed]",
      "text/plain": [
       "<Figure size 720x360 with 2 Axes>"
      ]
     },
     "metadata": {},
     "output_type": "display_data"
    }
   ],
   "source": [
    "plot_performance(pnl, date = date, title_name = 'BuyandHold')"
   ]
  },
  {
   "cell_type": "markdown",
   "metadata": {},
   "source": [
    "# Strategy 2"
   ]
  },
  {
   "cell_type": "code",
   "execution_count": 15,
   "metadata": {},
   "outputs": [],
   "source": [
    "def strategy2_LS(data, CPIVchange): \n",
    "    # Buy if the CPIV change is positive, Sell if the CPIV change is negative\n",
    "    length = len(data)\n",
    "    idx = [0] * length\n",
    "    for i in range(0, len(CPIVchange)):\n",
    "        if CPIVchange[i] > 0: \n",
    "            idx[i] = 1\n",
    "        elif CPIVchange[i] < 0: \n",
    "            idx[i] = -1\n",
    "        else: \n",
    "            idx[i] = 0\n",
    "\n",
    "    data['LS'] = idx\n",
    "    data['pnl'] = 100 * (1 + data['LS'].shift(1) * data['SC']).cumprod()\n",
    "    \n",
    "    return data['pnl']"
   ]
  },
  {
   "cell_type": "code",
   "execution_count": null,
   "metadata": {},
   "outputs": [],
   "source": []
  }
 ],
 "metadata": {
  "kernelspec": {
   "display_name": "Python 3",
   "language": "python",
   "name": "python3"
  },
  "language_info": {
   "codemirror_mode": {
    "name": "ipython",
    "version": 3
   },
   "file_extension": ".py",
   "mimetype": "text/x-python",
   "name": "python",
   "nbconvert_exporter": "python",
   "pygments_lexer": "ipython3",
   "version": "3.7.4"
  }
 },
 "nbformat": 4,
 "nbformat_minor": 2
}
