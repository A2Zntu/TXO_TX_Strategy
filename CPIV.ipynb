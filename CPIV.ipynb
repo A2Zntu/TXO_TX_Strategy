{
 "cells": [
  {
   "cell_type": "code",
   "execution_count": 1,
   "metadata": {},
   "outputs": [],
   "source": [
    "%run Futures.ipynb\n",
    "%run Options.ipynb"
   ]
  },
  {
   "cell_type": "code",
   "execution_count": 2,
   "metadata": {},
   "outputs": [],
   "source": [
    "import pandas as pd\n",
    "import numpy as np\n",
    "from datetime import date, time, datetime\n",
    "from py_vollib.black_scholes_merton.implied_volatility import implied_volatility as iv\n",
    "from math import exp, sqrt, log, fabs\n",
    "import matplotlib.pyplot as plt\n",
    "from itertools import repeat\n",
    "import os\n",
    "import calendar \n",
    "import glob"
   ]
  },
  {
   "cell_type": "code",
   "execution_count": 3,
   "metadata": {},
   "outputs": [],
   "source": [
    "work_dir = os.getcwd()\n",
    "work_dir\n",
    "Option_path = os.path.join(work_dir, 'Data', 'Option')\n",
    "Future_path = os.path.join(work_dir, 'Data', 'Futures')\n",
    "OptionOpen_path = os.path.join(work_dir, 'Data', 'OptionOpen')\n",
    "OptionClose_path = os.path.join(work_dir, 'Data', 'OptionClose')\n",
    "Rate_path = os.path.join(work_dir, 'Data', 'Rate')"
   ]
  },
  {
   "cell_type": "code",
   "execution_count": 4,
   "metadata": {},
   "outputs": [
    {
     "data": {
      "text/plain": [
       "'C:\\\\Users\\\\Evan\\\\Documents\\\\GitHub\\\\TXO_TX_Strategy\\\\Data\\\\Option'"
      ]
     },
     "execution_count": 4,
     "metadata": {},
     "output_type": "execute_result"
    }
   ],
   "source": [
    "Option_path"
   ]
  },
  {
   "cell_type": "markdown",
   "metadata": {},
   "source": [
    "## Calculate the Date Difference"
   ]
  },
  {
   "cell_type": "code",
   "execution_count": 54,
   "metadata": {},
   "outputs": [],
   "source": [
    "def dates_delta(start_time, maturity):\n",
    "    '''\n",
    "        Compute the distance between two TRADE_DATEs\n",
    "        Already consider about the weekly options\n",
    "    '''\n",
    "    \n",
    "    s = start_time\n",
    "    if ~isinstance(maturity, str): \n",
    "        maturity = str(int(maturity))\n",
    "        \n",
    "    d0 = date(year = int(s/10000), month = int((s % 10000)/100), day = int(s % 100))\n",
    "    if maturity[-2] == 'W':\n",
    "        m = maturity[:5]\n",
    "        year = int(int(maturity[:6])/100)\n",
    "        month = int(int(maturity[:6]) % 100)\n",
    "        weekidx = int(maturity[-1]) - 1\n",
    "        d1 = get_expireDate(year, month, week = weekidx)\n",
    "        \n",
    "    else: \n",
    "        year = int(int(maturity[:6])/100)\n",
    "        month = int(int(maturity[:6]) % 100)\n",
    "        d1 = get_expireDate(year, month)\n",
    "\n",
    "    t = np.busday_count(d0, d1)/252\n",
    "    if t < 0:\n",
    "        print(\"The input dates error!\")\n",
    "    return t"
   ]
  },
  {
   "cell_type": "code",
   "execution_count": 6,
   "metadata": {},
   "outputs": [],
   "source": [
    "def trans_dt(d):\n",
    "    d_new = date(year = int(d/10000), month = int((d % 10000)/100), day = int(d % 100))\n",
    "    return d_new"
   ]
  },
  {
   "cell_type": "code",
   "execution_count": 7,
   "metadata": {},
   "outputs": [],
   "source": [
    "def get_expireDate(year, month, week = 2):\n",
    "    c = calendar.Calendar(firstweekday=calendar.SATURDAY)\n",
    "    monthcal = c.monthdatescalendar(year, month)\n",
    "    monthly_expire_date = monthcal[week][-3]\n",
    "    return monthly_expire_date"
   ]
  },
  {
   "cell_type": "code",
   "execution_count": 8,
   "metadata": {},
   "outputs": [],
   "source": [
    "def get_Future_List(): \n",
    "    extension = 'csv'\n",
    "    os.chdir(Future_path)\n",
    "    Fut_csv_List = glob.glob('*.{}'.format(extension))\n",
    "    return Fut_csv_List"
   ]
  },
  {
   "cell_type": "code",
   "execution_count": 9,
   "metadata": {},
   "outputs": [],
   "source": [
    "def get_Option_List(): \n",
    "    extension = 'csv'\n",
    "    os.chdir(Option_path)\n",
    "    Opt_csv_List = glob.glob('*.{}'.format(extension))\n",
    "    return Opt_csv_List"
   ]
  },
  {
   "cell_type": "code",
   "execution_count": 10,
   "metadata": {},
   "outputs": [],
   "source": [
    "def get_zcb_rate(transDate):\n",
    "    if ~isinstance(transDate, date): \n",
    "        transDate = np.datetime64(trans_dt(transDate))\n",
    "    \n",
    "    rate =  pd.read_csv(os.path.join(Rate_path, 'ZCB.csv'))\n",
    "    rate['Date'] = pd.to_datetime(rate['Date'])\n",
    "    zcb = float(rate[rate.Date == transDate]['ZCB'])\n",
    "    \n",
    "    return zcb"
   ]
  },
  {
   "cell_type": "code",
   "execution_count": 11,
   "metadata": {},
   "outputs": [],
   "source": [
    "def MK_disc(S, K, t): \n",
    "    'Maturity and Moneyness Discount'\n",
    "    t = t * 252 # transform into days\n",
    "    try:\n",
    "        \n",
    "        m = float(K/S - 1) # moneyness\n",
    "        M = max(1, t/30.0) # days to month; at least one-month\n",
    "        w = exp(-(m**2)/2 - (M - 1)**2)\n",
    "    except ZeroDivisionError:\n",
    "        M = max(1, t/30.0)\n",
    "        w = exp(- (M - 1)**2)\n",
    "    return w"
   ]
  },
  {
   "cell_type": "code",
   "execution_count": 41,
   "metadata": {},
   "outputs": [],
   "source": [
    "def call_put_pair(Opt, Fut):\n",
    "    '''\n",
    "        Pair the Put Call Options\n",
    "    '''\n",
    "    pair_list = []\n",
    "    pair_dic = {}\n",
    "    \n",
    "    length = Opt.get_length()\n",
    "    \n",
    "    for i in range(length):\n",
    "        \n",
    "        transDate= Opt.get_transDate()\n",
    "        maturity = Opt.get_maturity(i)\n",
    "        t = dates_delta(transDate , maturity) \n",
    "        K = Opt.get_excercisePrice(i)\n",
    "        right = Opt.get_right(i)\n",
    "        interval = Opt.get_interval()\n",
    "        \n",
    "        dict_key = \"K:\" + str(K) + \"/\" + \"T:\" + str(t)\n",
    "        \n",
    "        S = float(Fut.get_TransPrice(transTime))\n",
    "        price = Opt.get_transPrice(i)\n",
    "        \n",
    "        cur_vol = Opt.get_volumn(i) * MK_disc(S, K, t) # current vol\n",
    "\n",
    "#=============================================================================\n",
    "#   Transform the Dict into Pair            \n",
    "#=============================================================================\n",
    "\n",
    "        if dict_key not in pair_dic:\n",
    "\n",
    "            pair_dic[dict_key] = len(pair_dic)\n",
    "            if right == \"C\":\n",
    "                pair_list.append([Opt.df.iloc[i], [], cur_vol, S, 0])\n",
    "            if right == \"P\":\n",
    "                pair_list.append([[], Opt.df.iloc[i], cur_vol, 0, S])\n",
    "                \n",
    "        else:\n",
    "            if right == \"C\":\n",
    "                if len(pair_list[pair_dic[dict_key]][0]) < 1:\n",
    "                    pair_list[pair_dic[dict_key]][0] = Opt.df.iloc[i]\n",
    "                    pair_list[pair_dic[dict_key]][2] = pair_list[pair_dic[dict_key]][2] + cur_vol\n",
    "                    pair_list[pair_dic[dict_key]][3] = S\n",
    "                    \n",
    "                if interval == \"Openinterval\": \n",
    "\n",
    "                    if pair_list[pair_dic[dict_key]][0]['TransTime'] > Opt.df['TransTime'][i]:\n",
    "                        pair_list[pair_dic[dict_key]][0] = Opt.df.iloc[i]\n",
    "                        pair_list[pair_dic[dict_key]][2] = pair_list[pair_dic[dict_key]][2] + cur_vol\n",
    "                        pair_list[pair_dic[dict_key]][3] = S\n",
    "                        \n",
    "                    else:\n",
    "                        pair_list[pair_dic[dict_key]][2] = pair_list[pair_dic[dict_key]][2] + cur_vol\n",
    "                        \n",
    "                elif interval == \"Closeinterval\": \n",
    "                    if pair_list[pair_dic[dict_key]][0]['TransTime'] < Opt.df['TransTime'][i]:\n",
    "                        pair_list[pair_dic[dict_key]][0] = Opt.df.iloc[i]\n",
    "                        pair_list[pair_dic[dict_key]][2] = pair_list[pair_dic[dict_key]][2] + cur_vol\n",
    "                        pair_list[pair_dic[dict_key]][3] = S\n",
    "                    else:\n",
    "                        pair_list[pair_dic[dict_key]][2] = pair_list[pair_dic[dict_key]][2] + cur_vol\n",
    "                \n",
    "            if right == \"P\":\n",
    "                if len(pair_list[pair_dic[dict_key]][1]) < 1:\n",
    "                    pair_list[pair_dic[dict_key]][1] = df.iloc[i]\n",
    "                    pair_list[pair_dic[dict_key]][2] = pair_list[pair_dic[dict_key]][2] + cur_vol\n",
    "                    pair_list[pair_dic[dict_key]][4] = S\n",
    "                    \n",
    "                if interval == \"Openinterval\": \n",
    "                    if pair_list[pair_dic[dict_key]][1]['TransTime'] > Opt.df['TransTime'][i]:\n",
    "                        pair_list[pair_dic[dict_key]][1] = Opt.df.iloc[i]\n",
    "                        pair_list[pair_dic[dict_key]][2] = pair_list[pair_dic[dict_key]][2] + cur_vol\n",
    "                        pair_list[pair_dic[dict_key]][4] = S\n",
    "                    else:\n",
    "                        pair_list[pair_dic[dict_key]][2] = pair_list[pair_dic[dict_key]][2] + cur_vol\n",
    "                        \n",
    "                elif interval == \"Closeinterval\": \n",
    "                    if pair_list[pair_dic[dict_key]][1]['TransTime'] < Opt.df['TransTime'][i]:\n",
    "                        pair_list[pair_dic[dict_key]][1] = Opt.df.iloc[i]\n",
    "                        pair_list[pair_dic[dict_key]][2] = pair_list[pair_dic[dict_key]][2] + cur_vol\n",
    "                        pair_list[pair_dic[dict_key]][4] = S\n",
    "                    else:\n",
    "                        pair_list[pair_dic[dict_key]][2] = pair_list[pair_dic[dict_key]][2] + cur_vol\n",
    "    \n",
    "    return pair_list"
   ]
  },
  {
   "cell_type": "code",
   "execution_count": 68,
   "metadata": {},
   "outputs": [],
   "source": [
    "def volatility_spread_hour(Opt, Fut):\n",
    "    volatility_spread = []\n",
    "    spread_volume = []\n",
    "    pair_list = call_put_pair(Opt, Fut)\n",
    "    \n",
    "    for i in range(len(pair_list)):\n",
    "        \n",
    "        if len(pair_list[i][0]) > 1 and len(pair_list[i][1]) > 1: # pair exist\n",
    "            Sc = float(pair_list[i][3])\n",
    "            Sp = float(pair_list[i][4])\n",
    "            Sa = (Sc+Sp)/2.0\n",
    "            \n",
    "            transDate = Opt.get_transDate()\n",
    "            maturity = pair_list[i][0]['Maturity']\n",
    "            t = dates_delta(transDate , maturity)\n",
    "            \n",
    "            r = get_zcb_rate(transDate)\n",
    "            K = float(pair_list[i][0]['ExcercisePrice'])\n",
    "            q = 0\n",
    "            moneyness = float(K/Sa)\n",
    "            \n",
    "            \n",
    "            call_price = float(pair_list[i][0]['TransPrice'])\n",
    "            put_price = float(pair_list[i][1]['TransPrice'])\n",
    "            vol = pair_list[i][2]\n",
    "            \n",
    "            PV_K = K*exp(-r*t)\n",
    "            intrinsic_c = fabs(max(Sc - PV_K, 0.0))\n",
    "            intrinsic_p = fabs(max(PV_K - Sp, 0.0))\n",
    "                \n",
    "            if call_price < intrinsic_c or call_price >= S: #Out of the Boundary\n",
    "                volatility_spread.append(0.0)\n",
    "                spread_volume.append(0.0)\n",
    "    \n",
    "            elif put_price < intrinsic_p or put_price >= K:\n",
    "                volatility_spread.append(0.0)\n",
    "                spread_volume.append(0.0)\n",
    "                \n",
    "            elif Sc == 0 or Sp == 0: #typo error\n",
    "                volatility_spread.append(0.0)\n",
    "                spread_volume.append(0.0) \n",
    "                \n",
    "            elif moneyness > 1.1 or moneyness < 0.9:\n",
    "                volatility_spread.append(0.0)\n",
    "                spread_volume.append(0.0) \n",
    "                \n",
    "            else:\n",
    "                call_iv = iv(price = call_price, \n",
    "                             flag = 'c', \n",
    "                             S = Sa, \n",
    "                             K = K, \n",
    "                             t = t, \n",
    "                             r = r,\n",
    "                             q = q)\n",
    "                \n",
    "                put_iv = iv(price = put_price, \n",
    "                             flag = 'p', \n",
    "                             S = Sa, \n",
    "                             K = K, \n",
    "                             t = t, \n",
    "                             r = r,\n",
    "                             q = q)\n",
    "                \n",
    "                cpiv = call_iv - put_iv\n",
    "                print(\"cpiv:\" ,cpiv)\n",
    "                print(\"vol:\" , vol)\n",
    "                print(\"=====================\")\n",
    "                volatility_spread.append(cpiv)\n",
    "                spread_volume.append(vol)\n",
    "                \n",
    "        else:\n",
    "            volatility_spread.append(0.0)\n",
    "            spread_volume.append(0.0)\n",
    "            \n",
    "    try: \n",
    "        weights_aggr = [i/sum(spread_volume) for i in spread_volume]\n",
    "        hour_vs = np.average(volatility_spread, weights = weights_aggr)\n",
    "        \n",
    "    except ZeroDivisionError:\n",
    "        hour_vs = np.nan\n",
    "\n",
    "    return hour_vs"
   ]
  },
  {
   "cell_type": "code",
   "execution_count": null,
   "metadata": {},
   "outputs": [],
   "source": [
    "def saving_file(df, saving_name = \"df\", results_path = os.path.join(work_dir, \"Output_Result\")):\n",
    "    if not os.path.isdir(results_path):\n",
    "        os.mkdir(results_path)\n",
    "    results_path = os.path.join(results_path, datetime.today().strftime('%Y%m%d')) \n",
    "    print (\"writing file to {}\".format(results_path))\n",
    "\n",
    "    if os.path.exists(results_path):\n",
    "        results_path = results_path + '_' + datetime.datetime.today().strftime('_%H%M%S')\n",
    "    if not os.path.isdir(results_path):\n",
    "        os.mkdir(results_path)\n",
    "        \n",
    "    if df:\n",
    "        df.to_csv(os.path.join(results_path, saving_name))\n",
    "    else:\n",
    "        print(\"Saving Files Failure!\")"
   ]
  },
  {
   "cell_type": "code",
   "execution_count": 37,
   "metadata": {},
   "outputs": [],
   "source": [
    "if __name__ ==  '__main__':\n",
    "    Opt_csv_List = get_Option_List()\n",
    "    dataCsv = Opt_csv_List[0]\n",
    "    path = OptionOpen_path\n",
    "    Opt = Options(path, dataCsv)\n",
    "    Fut_csv_list = get_Future_List()\n",
    "    FutCsv = Fut_csv_list[0]\n",
    "    Fut = Futures(FutCsv)"
   ]
  },
  {
   "cell_type": "code",
   "execution_count": 42,
   "metadata": {},
   "outputs": [],
   "source": [
    "pair_list = call_put_pair(Opt, Fut)"
   ]
  },
  {
   "cell_type": "code",
   "execution_count": 57,
   "metadata": {},
   "outputs": [
    {
     "data": {
      "text/plain": [
       "TransDate             20200313\n",
       "Product               TXO     \n",
       "ExcercisePrice           10500\n",
       "Maturity                202003\n",
       "Right                   C     \n",
       "TransTime                84500\n",
       "TransPrice                  25\n",
       "Volumn                      10\n",
       "Name: 12771, dtype: object"
      ]
     },
     "execution_count": 57,
     "metadata": {},
     "output_type": "execute_result"
    }
   ],
   "source": [
    "pair_list[50][0]"
   ]
  },
  {
   "cell_type": "code",
   "execution_count": 56,
   "metadata": {},
   "outputs": [
    {
     "name": "stdout",
     "output_type": "stream",
     "text": [
      "0.7656\n",
      "202003.0\n"
     ]
    },
    {
     "data": {
      "text/plain": [
       "0.011904761904761904"
      ]
     },
     "execution_count": 56,
     "metadata": {},
     "output_type": "execute_result"
    }
   ],
   "source": [
    "i = 50\n",
    "transDate = Opt.get_transDate()\n",
    "maturity = pair_list[i][0]['Maturity']\n",
    "r = get_zcb_rate(transDate)\n",
    "\n",
    "K = float(pair_list[i][0]['ExcercisePrice'])\n",
    "\n",
    "t = dates_delta(transDate , maturity)\n"
   ]
  },
  {
   "cell_type": "code",
   "execution_count": 69,
   "metadata": {},
   "outputs": [
    {
     "name": "stdout",
     "output_type": "stream",
     "text": [
      "cpiv: -0.05878808116742329\n",
      "vol: 1180.3810340026178\n",
      "=====================\n",
      "cpiv: -0.216146555904846\n",
      "vol: 1353.6697924814964\n",
      "=====================\n",
      "cpiv: -0.3812547498482399\n",
      "vol: 1192.917050248515\n",
      "=====================\n",
      "cpiv: -0.3597548278211767\n",
      "vol: 2201.997526775424\n",
      "=====================\n",
      "cpiv: -0.1975597743729821\n",
      "vol: 2017.9219525034125\n",
      "=====================\n",
      "cpiv: -0.21737420501483307\n",
      "vol: 1637.7015958167501\n",
      "=====================\n",
      "cpiv: -0.22565195675827177\n",
      "vol: 1785.229201037426\n",
      "=====================\n",
      "cpiv: -0.3368008167732671\n",
      "vol: 2439.079412177586\n",
      "=====================\n",
      "cpiv: -0.2538194156338549\n",
      "vol: 2156.306131382686\n",
      "=====================\n",
      "cpiv: -0.2408516586383478\n",
      "vol: 707.9238772863197\n",
      "=====================\n",
      "cpiv: -0.45266085785703253\n",
      "vol: 2592.2884238638762\n",
      "=====================\n",
      "cpiv: -0.49336125630007627\n",
      "vol: 2345.1551302324333\n",
      "=====================\n",
      "cpiv: -0.6529807944070183\n",
      "vol: 8.977624913692772\n",
      "=====================\n",
      "cpiv: -0.5215057254023503\n",
      "vol: 3134.737318303346\n",
      "=====================\n",
      "cpiv: -0.6443688235458715\n",
      "vol: 34.88578891593561\n",
      "=====================\n",
      "cpiv: -0.22788140709619137\n",
      "vol: 1958.846488225511\n",
      "=====================\n",
      "cpiv: -0.6615981223162444\n",
      "vol: 162.3243404070956\n",
      "=====================\n"
     ]
    }
   ],
   "source": [
    "hour_vs = volatility_spread_hour(Opt, Fut)"
   ]
  },
  {
   "cell_type": "code",
   "execution_count": 70,
   "metadata": {},
   "outputs": [
    {
     "data": {
      "text/plain": [
       "-0.3289851441896803"
      ]
     },
     "execution_count": 70,
     "metadata": {},
     "output_type": "execute_result"
    }
   ],
   "source": [
    "hour_vs"
   ]
  },
  {
   "cell_type": "code",
   "execution_count": null,
   "metadata": {},
   "outputs": [],
   "source": []
  }
 ],
 "metadata": {
  "kernelspec": {
   "display_name": "Python 3",
   "language": "python",
   "name": "python3"
  },
  "language_info": {
   "codemirror_mode": {
    "name": "ipython",
    "version": 3
   },
   "file_extension": ".py",
   "mimetype": "text/x-python",
   "name": "python",
   "nbconvert_exporter": "python",
   "pygments_lexer": "ipython3",
   "version": "3.7.4"
  }
 },
 "nbformat": 4,
 "nbformat_minor": 2
}
