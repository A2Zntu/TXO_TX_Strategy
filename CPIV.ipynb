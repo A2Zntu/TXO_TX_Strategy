{
 "cells": [
  {
   "cell_type": "code",
   "execution_count": 1,
   "metadata": {},
   "outputs": [],
   "source": [
    "%run Futures.ipynb\n",
    "%run Options.ipynb"
   ]
  },
  {
   "cell_type": "code",
   "execution_count": 2,
   "metadata": {},
   "outputs": [],
   "source": [
    "import pandas as pd\n",
    "import numpy as np\n",
    "from datetime import date, time, datetime\n",
    "from py_vollib.black_scholes_merton.implied_volatility import implied_volatility as iv\n",
    "from math import exp, sqrt, log, fabs\n",
    "import matplotlib.pyplot as plt\n",
    "from itertools import repeat\n",
    "import os\n",
    "import calendar \n",
    "import glob"
   ]
  },
  {
   "cell_type": "code",
   "execution_count": 3,
   "metadata": {},
   "outputs": [],
   "source": [
    "work_dir = os.getcwd()\n",
    "work_dir\n",
    "Option_path = os.path.join(work_dir, 'Data', 'Option')\n",
    "Future_path = os.path.join(work_dir, 'Data', 'Futures')\n",
    "OptionOpen_path = os.path.join(work_dir, 'Data', 'OptionOpen')\n",
    "OptionClose_path = os.path.join(work_dir, 'Data', 'OptionClose')\n",
    "Rate_path = os.path.join(work_dir, 'Data', 'Rate')"
   ]
  },
  {
   "cell_type": "code",
   "execution_count": 4,
   "metadata": {},
   "outputs": [
    {
     "data": {
      "text/plain": [
       "'C:\\\\Users\\\\Evan\\\\Documents\\\\GitHub\\\\TXO_TX_Strategy\\\\Data\\\\Option'"
      ]
     },
     "execution_count": 4,
     "metadata": {},
     "output_type": "execute_result"
    }
   ],
   "source": [
    "Option_path"
   ]
  },
  {
   "cell_type": "markdown",
   "metadata": {},
   "source": [
    "## Calculate the Date Difference"
   ]
  },
  {
   "cell_type": "code",
   "execution_count": 5,
   "metadata": {},
   "outputs": [],
   "source": [
    "def dates_delta(start_time, maturity):\n",
    "    '''\n",
    "        Compute the distance between two TRADE_DATEs\n",
    "        Already consider about the weekly options\n",
    "    '''\n",
    "    \n",
    "    s = start_time\n",
    "    \n",
    "    d0 = date(year = int(s/10000), month = int((s % 10000)/100), day = int(s % 100))\n",
    "    if maturity[-2] == 'W':\n",
    "        m = maturity[:5]\n",
    "        year = int(int(maturity[:6])/100)\n",
    "        month = int(int(maturity[:6]) % 100)\n",
    "        weekidx = int(maturity[-1]) - 1\n",
    "        d1 = get_expireDate(year, month, week = weekidx)\n",
    "        \n",
    "    else: \n",
    "        year = int(int(maturity[:6])/100)\n",
    "        month = int(int(maturity[:6]) % 100)\n",
    "        d1 = get_expireDate(year, month)\n",
    "\n",
    "    t = np.busday_count(d0, d1)/252\n",
    "    if t < 0:\n",
    "        print(\"The input dates error!\")\n",
    "    return t"
   ]
  },
  {
   "cell_type": "code",
   "execution_count": 6,
   "metadata": {},
   "outputs": [],
   "source": [
    "def trans_dt(d):\n",
    "    d_new = date(year = int(d/10000), month = int((d % 10000)/100), day = int(d % 100))\n",
    "    return d_new"
   ]
  },
  {
   "cell_type": "code",
   "execution_count": 7,
   "metadata": {},
   "outputs": [],
   "source": [
    "def get_expireDate(year, month, week = 2):\n",
    "    c = calendar.Calendar(firstweekday=calendar.SATURDAY)\n",
    "    monthcal = c.monthdatescalendar(year, month)\n",
    "    monthly_expire_date = monthcal[week][-3]\n",
    "    return monthly_expire_date"
   ]
  },
  {
   "cell_type": "code",
   "execution_count": 8,
   "metadata": {},
   "outputs": [],
   "source": [
    "def get_Future_List(): \n",
    "    extension = 'csv'\n",
    "    os.chdir(Future_path)\n",
    "    Fut_csv_List = glob.glob('*.{}'.format(extension))\n",
    "    return Fut_csv_List"
   ]
  },
  {
   "cell_type": "code",
   "execution_count": 9,
   "metadata": {},
   "outputs": [],
   "source": [
    "def get_Option_List(): \n",
    "    extension = 'csv'\n",
    "    os.chdir(Option_path)\n",
    "    Opt_csv_List = glob.glob('*.{}'.format(extension))\n",
    "    return Opt_csv_List"
   ]
  },
  {
   "cell_type": "code",
   "execution_count": 10,
   "metadata": {},
   "outputs": [],
   "source": [
    "def get_zcb_rate(transDate):\n",
    "    if ~isinstance(transDate, date): \n",
    "        transDate = np.datetime64(trans_dt(transDate))\n",
    "    \n",
    "    rate =  pd.read_csv(os.path.join(Rate_path, 'ZCB.csv'))\n",
    "    rate['Date'] = pd.to_datetime(rate['Date'])\n",
    "    zcb = float(rate[rate.Date == transDate]['ZCB'])\n",
    "    \n",
    "    return zcb"
   ]
  },
  {
   "cell_type": "code",
   "execution_count": 11,
   "metadata": {},
   "outputs": [],
   "source": [
    "def MK_disc(S, K, t): \n",
    "    'Maturity and Moneyness Discount'\n",
    "    t = t * 252 # transform into days\n",
    "    try:\n",
    "        \n",
    "        m = float(K/S - 1) # moneyness\n",
    "        M = max(1, t/30.0) # days to month; at least one-month\n",
    "        w = exp(-(m**2)/2 - (M - 1)**2)\n",
    "    except ZeroDivisionError:\n",
    "        M = max(1, t/30.0)\n",
    "        w = exp(- (M - 1)**2)\n",
    "    return w"
   ]
  },
  {
   "cell_type": "code",
   "execution_count": 12,
   "metadata": {},
   "outputs": [],
   "source": [
    "def call_put_pair(Opt, Fut):\n",
    "    '''\n",
    "        Pair the Put Call Options\n",
    "    '''\n",
    "    pair_list = []\n",
    "    pair_dic = {}\n",
    "    \n",
    "    length = Opt.get_length()\n",
    "    \n",
    "    for i in range(length):\n",
    "        \n",
    "        transDate= Opt.get_transDate()\n",
    "        maturity = Opt.get_maturity(i)\n",
    "        t = dates_delta(transDate , maturity) \n",
    "        K = Opt.get_excercisePrice(i)\n",
    "        right = Opt.get_right(i)\n",
    "        interval = Opt.get_interval()\n",
    "        \n",
    "        dict_key = \"K:\" + str(K) + \"/\" + \"T:\" + str(td)\n",
    "        \n",
    "        S = float(Fut.get_TransPrice(transTime))\n",
    "        price = Opt.get_transPrice(i)\n",
    "        \n",
    "        cur_vol = Opt.get_volumn(i) * MK_disc(S, K, t) # current vol\n",
    "\n",
    "#=============================================================================\n",
    "#   Transform the Dict into Pair            \n",
    "#=============================================================================\n",
    "\n",
    "        if dict_key not in pair_dic:\n",
    "\n",
    "            pair_dic[dict_key] = len(pair_dic)\n",
    "            if right == \"C\":\n",
    "                pair_list.append([Opt.df.iloc[i], [], cur_vol])\n",
    "            if right == \"P\":\n",
    "                pair_list.append([[], Opt.df.iloc[i], cur_vol])\n",
    "                \n",
    "        else:\n",
    "            if right == \"C\":\n",
    "                if len(pair_list[pair_dic[dict_key]][0]) < 1:\n",
    "                    pair_list[pair_dic[dict_key]][0] = Opt.df.iloc[i]\n",
    "                    pair_list[pair_dic[dict_key]][2] = pair_list[pair_dic[dict_key]][2] + cur_vol\n",
    "                    \n",
    "                if interval == \"Openinterval\": \n",
    "                    if pair_list[pair_dic[dict_key]][0]['TransTime'] > Opt.df['TransTime'][i]:\n",
    "                        pair_list[pair_dic[dict_key]][0] = Opt.df.iloc[i]\n",
    "                        pair_list[pair_dic[dict_key]][2] = pair_list[pair_dic[dict_key]][2] + cur_vol\n",
    "                    else:\n",
    "                        pair_list[pair_dic[dict_key]][2] = pair_list[pair_dic[dict_key]][2] + cur_vol\n",
    "                        \n",
    "                elif interval == \"Closeinterval\": \n",
    "                    if pair_list[pair_dic[dict_key]][0]['TransTime'] < Opt.df['TransTime'][i]:\n",
    "                        pair_list[pair_dic[dict_key]][0] = Opt.df.iloc[i]\n",
    "                        pair_list[pair_dic[dict_key]][2] = pair_list[pair_dic[dict_key]][2] + cur_vol\n",
    "                    else:\n",
    "                        pair_list[pair_dic[dict_key]][2] = pair_list[pair_dic[dict_key]][2] + cur_vol\n",
    "                \n",
    "            if right == \"P\":\n",
    "                if len(pair_list[pair_dic[dict_key]][1]) < 1:\n",
    "                    pair_list[pair_dic[dict_key]][1] = df.iloc[i]\n",
    "                    pair_list[pair_dic[dict_key]][2] = pair_list[pair_dic[dict_key]][2] + cur_vol\n",
    "                    \n",
    "                if interval == \"Openinterval\": \n",
    "                    if pair_list[pair_dic[dict_key]][0]['TransTime'] > Opt.df['TransTime'][i]:\n",
    "                        pair_list[pair_dic[dict_key]][0] = Opt.df.iloc[i]\n",
    "                        pair_list[pair_dic[dict_key]][2] = pair_list[pair_dic[dict_key]][2] + cur_vol\n",
    "                    else:\n",
    "                        pair_list[pair_dic[dict_key]][2] = pair_list[pair_dic[dict_key]][2] + cur_vol\n",
    "                        \n",
    "                elif interval == \"Closeinterval\": \n",
    "                    if pair_list[pair_dic[dict_key]][0]['TransTime'] < Opt.df['TransTime'][i]:\n",
    "                        pair_list[pair_dic[dict_key]][0] = Opt.df.iloc[i]\n",
    "                        pair_list[pair_dic[dict_key]][2] = pair_list[pair_dic[dict_key]][2] + cur_vol\n",
    "                    else:\n",
    "                        pair_list[pair_dic[dict_key]][2] = pair_list[pair_dic[dict_key]][2] + cur_vol\n",
    "    \n",
    "    return pair_list"
   ]
  },
  {
   "cell_type": "code",
   "execution_count": 12,
   "metadata": {},
   "outputs": [],
   "source": [
    "if __name__ ==  '__main__':\n",
    "    Opt_csv_List = get_Option_List()\n",
    "    dataCsv = Opt_csv_List[0]\n",
    "    path = OptionOpen_path\n",
    "    Opt = Options(path, dataCsv)\n",
    "    Fut_csv_list = get_Future_List()\n",
    "    FutCsv = Fut_csv_list[0]\n",
    "    Fut = Futures(FutCsv)"
   ]
  },
  {
   "cell_type": "code",
   "execution_count": 18,
   "metadata": {},
   "outputs": [],
   "source": [
    "i = 0\n",
    "transDate = Opt.get_transDate()\n",
    "maturity = Opt.get_maturity(i)\n",
    "t = dates_delta(transDate , maturity) \n",
    "K = Opt.get_excercisePrice(i)\n",
    "right = Opt.get_right(i)\n",
    "\n",
    "dict_key = \"K:\" + str(K) + \"/\" + \"T:\" +str(t)\n",
    "\n",
    "transTime = Opt.get_transTime(i)\n",
    "S = float(Fut.get_TransPrice(transTime))\n",
    "price = Opt.get_transPrice(i)\n",
    "\n",
    "vol = Opt.get_volumn(i) * MK_disc(S, K, t) "
   ]
  },
  {
   "cell_type": "code",
   "execution_count": 19,
   "metadata": {},
   "outputs": [],
   "source": [
    "cur_vol = vol"
   ]
  },
  {
   "cell_type": "code",
   "execution_count": 20,
   "metadata": {},
   "outputs": [],
   "source": [
    "pair_list = []\n",
    "pair_dic = {}\n",
    "if dict_key not in pair_dic:\n",
    "\n",
    "    pair_dic[dict_key] = len(pair_dic)\n",
    "    if right == \"C\":\n",
    "        pair_list.append([Opt.df.iloc[i], [], cur_vol])\n",
    "    if right == \"P\":\n",
    "        pair_list.append([[], Opt.df.iloc[i], cur_vol])\n",
    "\n",
    "else:\n",
    "    if right == \"C\":\n",
    "        if len(pair_list[pair_dic[dict_key]][0]) < 1:\n",
    "            pair_list[pair_dic[dict_key]][0] = Opt.df.iloc[i]\n",
    "            pair_list[pair_dic[dict_key]][2] = pair_list[pair_dic[dict_key]][2] + cur_vol\n",
    "\n",
    "        if interval == \"Openinterval\": \n",
    "            if pair_list[pair_dic[dict_key]][0]['TransTime'] > Opt.df['TransTime'][i]:\n",
    "                pair_list[pair_dic[dict_key]][0] = Opt.df.iloc[i]\n",
    "                pair_list[pair_dic[dict_key]][2] = pair_list[pair_dic[dict_key]][2] + cur_vol\n",
    "            else:\n",
    "                pair_list[pair_dic[dict_key]][2] = pair_list[pair_dic[dict_key]][2] + cur_vol\n",
    "\n",
    "        elif interval == \"Closeinterval\": \n",
    "            if pair_list[pair_dic[dict_key]][0]['TransTime'] < Opt.df['TransTime'][i]:\n",
    "                pair_list[pair_dic[dict_key]][0] = Opt.df.iloc[i]\n",
    "                pair_list[pair_dic[dict_key]][2] = pair_list[pair_dic[dict_key]][2] + cur_vol\n",
    "            else:\n",
    "                pair_list[pair_dic[dict_key]][2] = pair_list[pair_dic[dict_key]][2] + cur_vol\n",
    "\n",
    "    if right == \"P\":\n",
    "        if len(pair_list[pair_dic[dict_key]][1]) < 1:\n",
    "            pair_list[pair_dic[dict_key]][1] = df.iloc[i]\n",
    "            pair_list[pair_dic[dict_key]][2] = pair_list[pair_dic[dict_key]][2] + cur_vol\n",
    "\n",
    "        if interval == \"Openinterval\": \n",
    "            if pair_list[pair_dic[dict_key]][0]['TransTime'] > Opt.df['TransTime'][i]:\n",
    "                pair_list[pair_dic[dict_key]][0] = Opt.df.iloc[i]\n",
    "                pair_list[pair_dic[dict_key]][2] = pair_list[pair_dic[dict_key]][2] + cur_vol\n",
    "            else:\n",
    "                pair_list[pair_dic[dict_key]][2] = pair_list[pair_dic[dict_key]][2] + cur_vol\n",
    "\n",
    "        elif interval == \"Closeinterval\": \n",
    "            if pair_list[pair_dic[dict_key]][0]['TransTime'] < Opt.df['TransTime'][i]:\n",
    "                pair_list[pair_dic[dict_key]][0] = Opt.df.iloc[i]\n",
    "                pair_list[pair_dic[dict_key]][2] = pair_list[pair_dic[dict_key]][2] + cur_vol\n",
    "            else:\n",
    "                pair_list[pair_dic[dict_key]][2] = pair_list[pair_dic[dict_key]][2] + cur_vol"
   ]
  },
  {
   "cell_type": "code",
   "execution_count": 22,
   "metadata": {},
   "outputs": [
    {
     "data": {
      "text/plain": [
       "{'K:8200/T:0.011904761904761904': 0}"
      ]
     },
     "execution_count": 22,
     "metadata": {},
     "output_type": "execute_result"
    }
   ],
   "source": [
    "pair_dic"
   ]
  },
  {
   "cell_type": "code",
   "execution_count": null,
   "metadata": {},
   "outputs": [],
   "source": []
  }
 ],
 "metadata": {
  "kernelspec": {
   "display_name": "Python 3",
   "language": "python",
   "name": "python3"
  },
  "language_info": {
   "codemirror_mode": {
    "name": "ipython",
    "version": 3
   },
   "file_extension": ".py",
   "mimetype": "text/x-python",
   "name": "python",
   "nbconvert_exporter": "python",
   "pygments_lexer": "ipython3",
   "version": "3.7.4"
  }
 },
 "nbformat": 4,
 "nbformat_minor": 2
}
