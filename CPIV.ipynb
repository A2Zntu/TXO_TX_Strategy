{
 "cells": [
  {
   "cell_type": "code",
   "execution_count": 11,
   "metadata": {},
   "outputs": [],
   "source": [
    "import pandas as pd\n",
    "import numpy as np\n",
    "from datetime import date, time, datetime\n",
    "from py_vollib.black_scholes_merton.implied_volatility import implied_volatility as iv\n",
    "from math import exp, sqrt, log, fabs\n",
    "import matplotlib.pyplot as plt\n",
    "from itertools import repeat\n",
    "import os\n",
    "import calendar \n",
    "import glob"
   ]
  },
  {
   "cell_type": "code",
   "execution_count": 7,
   "metadata": {},
   "outputs": [],
   "source": [
    "work_dir = os.getcwd()\n",
    "work_dir\n",
    "Option_path = os.path.join(work_dir, 'Data', 'Option')\n",
    "Future_path = os.path.join(work_dir, 'Data', 'Futures')"
   ]
  },
  {
   "cell_type": "markdown",
   "metadata": {},
   "source": [
    "## Calculate the Date Difference"
   ]
  },
  {
   "cell_type": "code",
   "execution_count": 25,
   "metadata": {},
   "outputs": [],
   "source": [
    "def dates_delta(start_time, maturity):\n",
    "    'Compute the distance between two TRADE_DATEs'\n",
    "    s = start_time\n",
    "    \n",
    "    d0 = date(year = int(s/10000), month = int((s % 10000)/100), day = int(s % 100))\n",
    "    d1 = get_expireDate(int(maturity/100), int(maturity % 100))\n",
    "\n",
    "    t = np.busday_count(d0, d1)/252\n",
    "    if t < 0:\n",
    "        print(\"The input dates error!\")\n",
    "    return t"
   ]
  },
  {
   "cell_type": "code",
   "execution_count": 15,
   "metadata": {},
   "outputs": [],
   "source": [
    "def get_expireDate(year, month):\n",
    "    c = calendar.Calendar(firstweekday=calendar.SATURDAY)\n",
    "    monthcal = c.monthdatescalendar(year, month)\n",
    "    monthly_expire_date = monthcal[2][-3]\n",
    "    return monthly_expire_date"
   ]
  },
  {
   "cell_type": "code",
   "execution_count": 8,
   "metadata": {},
   "outputs": [],
   "source": [
    "def get_Future_List(): \n",
    "    extension = 'csv'\n",
    "    os.chdir(Future_path)\n",
    "    Fut_csv_List = glob.glob('*.{}'.format(extension))\n",
    "    return Fut_csv_List"
   ]
  },
  {
   "cell_type": "code",
   "execution_count": 9,
   "metadata": {},
   "outputs": [],
   "source": [
    "def get_Option_List(): \n",
    "    extension = 'csv'\n",
    "    os.chdir(Option_path)\n",
    "    Opt_csv_List = glob.glob('*.{}'.format(extension))\n",
    "    return Opt_csv_List"
   ]
  },
  {
   "cell_type": "code",
   "execution_count": 13,
   "metadata": {},
   "outputs": [],
   "source": [
    "if __name__ ==  '__main__':\n",
    "    Opt_csv_List = get_Option_List()\n",
    "    Option =  pd.read_csv(os.path.join(Option_path, Opt_csv_List[0]), encoding = 'cp950')\n",
    "    "
   ]
  },
  {
   "cell_type": "code",
   "execution_count": 22,
   "metadata": {},
   "outputs": [
    {
     "data": {
      "text/html": [
       "<div>\n",
       "<style scoped>\n",
       "    .dataframe tbody tr th:only-of-type {\n",
       "        vertical-align: middle;\n",
       "    }\n",
       "\n",
       "    .dataframe tbody tr th {\n",
       "        vertical-align: top;\n",
       "    }\n",
       "\n",
       "    .dataframe thead th {\n",
       "        text-align: right;\n",
       "    }\n",
       "</style>\n",
       "<table border=\"1\" class=\"dataframe\">\n",
       "  <thead>\n",
       "    <tr style=\"text-align: right;\">\n",
       "      <th></th>\n",
       "      <th>TransDate</th>\n",
       "      <th>Product</th>\n",
       "      <th>ExcercisePrice</th>\n",
       "      <th>Maturity</th>\n",
       "      <th>Right</th>\n",
       "      <th>TransTime</th>\n",
       "      <th>TransPrice</th>\n",
       "      <th>Volumn</th>\n",
       "    </tr>\n",
       "  </thead>\n",
       "  <tbody>\n",
       "    <tr>\n",
       "      <th>0</th>\n",
       "      <td>20200313</td>\n",
       "      <td>TXO</td>\n",
       "      <td>8200.0</td>\n",
       "      <td>202003.0</td>\n",
       "      <td>P</td>\n",
       "      <td>84500.0</td>\n",
       "      <td>19.5</td>\n",
       "      <td>1.0</td>\n",
       "    </tr>\n",
       "    <tr>\n",
       "      <th>1</th>\n",
       "      <td>20200313</td>\n",
       "      <td>TXO</td>\n",
       "      <td>8200.0</td>\n",
       "      <td>202003.0</td>\n",
       "      <td>P</td>\n",
       "      <td>84500.0</td>\n",
       "      <td>19.5</td>\n",
       "      <td>5.0</td>\n",
       "    </tr>\n",
       "    <tr>\n",
       "      <th>2</th>\n",
       "      <td>20200313</td>\n",
       "      <td>TXO</td>\n",
       "      <td>8200.0</td>\n",
       "      <td>202003.0</td>\n",
       "      <td>P</td>\n",
       "      <td>84500.0</td>\n",
       "      <td>19.5</td>\n",
       "      <td>13.0</td>\n",
       "    </tr>\n",
       "    <tr>\n",
       "      <th>3</th>\n",
       "      <td>20200313</td>\n",
       "      <td>TXO</td>\n",
       "      <td>8200.0</td>\n",
       "      <td>202003.0</td>\n",
       "      <td>P</td>\n",
       "      <td>84500.0</td>\n",
       "      <td>19.5</td>\n",
       "      <td>5.0</td>\n",
       "    </tr>\n",
       "    <tr>\n",
       "      <th>4</th>\n",
       "      <td>20200313</td>\n",
       "      <td>TXO</td>\n",
       "      <td>8200.0</td>\n",
       "      <td>202003.0</td>\n",
       "      <td>P</td>\n",
       "      <td>84500.0</td>\n",
       "      <td>19.5</td>\n",
       "      <td>1.0</td>\n",
       "    </tr>\n",
       "  </tbody>\n",
       "</table>\n",
       "</div>"
      ],
      "text/plain": [
       "   TransDate       Product  ExcercisePrice  Maturity       Right  TransTime  \\\n",
       "0   20200313      TXO               8200.0  202003.0      P         84500.0   \n",
       "1   20200313      TXO               8200.0  202003.0      P         84500.0   \n",
       "2   20200313      TXO               8200.0  202003.0      P         84500.0   \n",
       "3   20200313      TXO               8200.0  202003.0      P         84500.0   \n",
       "4   20200313      TXO               8200.0  202003.0      P         84500.0   \n",
       "\n",
       "   TransPrice  Volumn  \n",
       "0        19.5     1.0  \n",
       "1        19.5     5.0  \n",
       "2        19.5    13.0  \n",
       "3        19.5     5.0  \n",
       "4        19.5     1.0  "
      ]
     },
     "execution_count": 22,
     "metadata": {},
     "output_type": "execute_result"
    }
   ],
   "source": [
    "Option.head()"
   ]
  },
  {
   "cell_type": "code",
   "execution_count": 28,
   "metadata": {},
   "outputs": [],
   "source": [
    "start_time = Option.TransDate[0]\n",
    "maturity = Option.Maturity[0]"
   ]
  },
  {
   "cell_type": "code",
   "execution_count": 29,
   "metadata": {},
   "outputs": [
    {
     "data": {
      "text/plain": [
       "202003.0"
      ]
     },
     "execution_count": 29,
     "metadata": {},
     "output_type": "execute_result"
    }
   ],
   "source": [
    "maturity "
   ]
  },
  {
   "cell_type": "code",
   "execution_count": 31,
   "metadata": {},
   "outputs": [
    {
     "data": {
      "text/plain": [
       "0.011904761904761904"
      ]
     },
     "execution_count": 31,
     "metadata": {},
     "output_type": "execute_result"
    }
   ],
   "source": [
    "t = dates_delta(start_time, maturity)"
   ]
  },
  {
   "cell_type": "code",
   "execution_count": null,
   "metadata": {},
   "outputs": [],
   "source": []
  }
 ],
 "metadata": {
  "kernelspec": {
   "display_name": "Python 3",
   "language": "python",
   "name": "python3"
  },
  "language_info": {
   "codemirror_mode": {
    "name": "ipython",
    "version": 3
   },
   "file_extension": ".py",
   "mimetype": "text/x-python",
   "name": "python",
   "nbconvert_exporter": "python",
   "pygments_lexer": "ipython3",
   "version": "3.7.4"
  }
 },
 "nbformat": 4,
 "nbformat_minor": 2
}
